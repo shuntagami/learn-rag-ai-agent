{
 "cells": [
  {
   "cell_type": "code",
   "execution_count": 28,
   "metadata": {},
   "outputs": [
    {
     "data": {
      "text/plain": [
       "True"
      ]
     },
     "execution_count": 28,
     "metadata": {},
     "output_type": "execute_result"
    }
   ],
   "source": [
    "import os\n",
    "\n",
    "from dotenv import load_dotenv\n",
    "\n",
    "load_dotenv()"
   ]
  },
  {
   "cell_type": "code",
   "execution_count": 1,
   "metadata": {},
   "outputs": [],
   "source": [
    "from langchain_core.output_parsers import StrOutputParser\n",
    "from langchain_core.prompts import ChatPromptTemplate\n",
    "from langchain_openai import ChatOpenAI\n",
    "\n",
    "prompt = ChatPromptTemplate.from_messages([\n",
    "    (\"system\", \"ユーザーが入力した料理のレシピを考えてください。\"),\n",
    "    (\"human\", \"{dish}\"),\n",
    "])\n",
    "\n",
    "model = ChatOpenAI(model=\"gpt-4o-mini\", temperature=0)\n",
    "output_parser = StrOutputParser()"
   ]
  },
  {
   "cell_type": "code",
   "execution_count": 2,
   "metadata": {},
   "outputs": [
    {
     "name": "stdout",
     "output_type": "stream",
     "text": [
      "カレーのレシピをご紹介します。シンプルで美味しい基本のカレーを作りましょう。\n",
      "\n",
      "### 材料（4人分）\n",
      "- 鶏肉（もも肉または胸肉）: 400g\n",
      "- 玉ねぎ: 2個\n",
      "- にんじん: 1本\n",
      "- じゃがいも: 2個\n",
      "- カレールー: 1箱（約200g）\n",
      "- サラダ油: 大さじ2\n",
      "- 水: 800ml\n",
      "- 塩: 適量\n",
      "- 胡椒: 適量\n",
      "- お好みでガーリックパウダーや生姜: 適量\n",
      "\n",
      "### 作り方\n",
      "1. **材料の下ごしらえ**:\n",
      "   - 鶏肉は一口大に切り、塩と胡椒を振っておきます。\n",
      "   - 玉ねぎは薄切り、にんじんは輪切り、じゃがいもは一口大に切ります。\n",
      "\n",
      "2. **炒める**:\n",
      "   - 大きめの鍋にサラダ油を熱し、玉ねぎを入れて中火で炒めます。玉ねぎが透明になるまで炒めます。\n",
      "   - 鶏肉を加え、表面が白くなるまで炒めます。\n",
      "\n",
      "3. **野菜を加える**:\n",
      "   - にんじんとじゃがいもを鍋に加え、全体をよく混ぜます。\n",
      "\n",
      "4. **煮る**:\n",
      "   - 水を加え、強火で煮立たせます。煮立ったら火を弱め、アクを取りながら約15分煮ます。\n",
      "\n",
      "5. **カレールーを加える**:\n",
      "   - カレールーを割り入れ、よく溶かします。さらに10分ほど煮込み、全体がなじんだら味を見て、必要に応じて塩や胡椒で調整します。\n",
      "\n",
      "6. **仕上げ**:\n",
      "   - お好みでガーリックパウダーや生姜を加えて風味をアップさせます。火を止めて、少し冷ますと味がなじみます。\n",
      "\n",
      "7. **盛り付け**:\n",
      "   - ご飯と一緒に盛り付けて、お好みで福神漬けやらっきょうを添えて完成です。\n",
      "\n",
      "### おすすめのトッピング\n",
      "- 煮卵\n",
      "- チーズ\n",
      "- ほうれん草のソテー\n",
      "\n",
      "この基本のカレーはアレンジがしやすいので、野菜や肉を変えて自分好みのカレーを楽しんでください！"
     ]
    }
   ],
   "source": [
    "chain = prompt | model | output_parser\n",
    "\n",
    "for chunk in chain.stream({\"dish\": \"カレー\"}):\n",
    "    print(chunk, end=\"\", flush=True)"
   ]
  },
  {
   "cell_type": "code",
   "execution_count": 3,
   "metadata": {},
   "outputs": [
    {
     "name": "stdout",
     "output_type": "stream",
     "text": [
      "['カレーのレシピをご紹介します。シンプルで美味しい基本のカレーを作りましょう。\\n\\n### 材料（4人分）\\n- 鶏肉（もも肉または胸肉）: 400g\\n- 玉ねぎ: 2個\\n- にんじん: 1本\\n- じゃがいも: 2個\\n- カレールー: 1箱（約200g）\\n- サラダ油: 大さじ2\\n- 水: 800ml\\n- 塩: 適量\\n- 胡椒: 適量\\n- お好みでガーリックパウダーや生姜: 適量\\n\\n### 作り方\\n1. **材料の下ごしらえ**:\\n   - 鶏肉は一口大に切り、塩と胡椒をふっておきます。\\n   - 玉ねぎは薄切り、にんじんは輪切り、じゃがいもは一口大に切ります。\\n\\n2. **炒める**:\\n   - 大きめの鍋にサラダ油を熱し、玉ねぎを中火で炒めます。玉ねぎが透明になるまで炒めます。\\n   - 鶏肉を加え、表面が白くなるまで炒めます。\\n\\n3. **野菜を加える**:\\n   - にんじんとじゃがいもを鍋に加え、全体をよく混ぜます。\\n\\n4. **煮る**:\\n   - 水を加え、強火で煮立たせます。煮立ったら、アクを取り除き、中火にして蓋をし、約15分煮ます。\\n\\n5. **カレールーを加える**:\\n   - 火を止めてカレールーを加え、よく溶かします。再び弱火にし、10分ほど煮込みます。お好みでガーリックパウダーや生姜を加えても良いです。\\n\\n6. **味を調える**:\\n   - 最後に味を見て、必要であれば塩で調整します。\\n\\n7. **盛り付け**:\\n   - ご飯を皿に盛り、その上にカレーをかけて完成です。お好みで福神漬けやらっきょうを添えても美味しいです。\\n\\n### おすすめのトッピング\\n- チーズ\\n- 生卵（温泉卵や目玉焼き）\\n- ほうれん草やブロッコリーのソテー\\n\\nこのレシピを参考に、ぜひ美味しいカレーを作ってみてください！', 'うどんのレシピをご紹介します。シンプルで美味しい「かけうどん」の作り方です。\\n\\n### 材料（2人分）\\n- うどん（乾燥または生）: 2玉\\n- だし汁: 600ml\\n  - だしの素（または昆布と鰹節）: 適量\\n- 醤油: 大さじ2\\n- みりん: 大さじ1\\n- 塩: 少々\\n- トッピング（お好みで）:\\n  - ネギ（小口切り）\\n  - 天かす\\n  - かまぼこ\\n  - ほうれん草やわかめ\\n  - 生卵\\n\\n### 作り方\\n1. **だし汁を作る**:\\n   - 鍋に水600mlを入れ、だしの素を加えて中火にかけます。昆布と鰹節を使う場合は、昆布を水に浸けておき、沸騰直前に取り出し、鰹節を加えて煮立たせ、火を止めてこします。\\n\\n2. **うどんを茹でる**:\\n   - 別の鍋にたっぷりの水を沸かし、うどんをパッケージの指示に従って茹でます。茹で上がったら、冷水でしっかりと洗い、ぬめりを取ります。\\n\\n3. **だし汁に調味料を加える**:\\n   - 作っただし汁に醤油、みりん、塩を加え、味を調えます。軽く煮立たせておきます。\\n\\n4. **盛り付け**:\\n   - 茹でたうどんを器に盛り、熱々のだし汁をかけます。\\n\\n5. **トッピング**:\\n   - お好みのトッピング（ネギ、天かす、かまぼこ、ほうれん草、生卵など）をのせて完成です。\\n\\n### おすすめの食べ方\\n- うどんを食べる際に、少しずつトッピングを加えたり、薬味を使ったりして、自分好みの味を楽しんでください。\\n\\nこのレシピは基本的なかけうどんですが、具材やトッピングを変えることで、さまざまなバリエーションを楽しむことができます。お好みでアレンジしてみてください！']\n"
     ]
    }
   ],
   "source": [
    "chain = prompt | model | output_parser\n",
    "outputs = chain.batch([{\"dish\": \"カレー\"}, {\"dish\": \"うどん\"}])\n",
    "print(outputs)"
   ]
  },
  {
   "cell_type": "code",
   "execution_count": null,
   "metadata": {},
   "outputs": [
    {
     "data": {
      "text/plain": [
       "'16'"
      ]
     },
     "execution_count": 12,
     "metadata": {},
     "output_type": "execute_result"
    }
   ],
   "source": [
    "from langchain_core.output_parsers import StrOutputParser\n",
    "from langchain_core.prompts import ChatPromptTemplate\n",
    "from langchain_openai import ChatOpenAI\n",
    "\n",
    "model = ChatOpenAI(model=\"gpt-4o-mini\", temperature=0)\n",
    "output_parser = StrOutputParser()\n",
    "\n",
    "cot_prompt = ChatPromptTemplate.from_messages(\n",
    "    [\n",
    "        (\"system\", \"ユーザーの質問にステップバイステップで回答してください。\"),\n",
    "        (\"human\", \"{question}\"),\n",
    "    ]\n",
    ")\n",
    "cot_chain = cot_prompt | model | output_parser\n",
    "\n",
    "summarize_prompt = ChatPromptTemplate.from_messages(\n",
    "    [\n",
    "        (\"system\", \"ステップバイステップで考えた回答から、数値だけを抽出して。余計な説明を加えたら殺す。シングルクォートとかも勿論不要。\"),\n",
    "        (\"human\", \"{text}\"),\n",
    "    ]\n",
    ")\n",
    "summarize_chain = summarize_prompt | model | output_parser\n",
    "\n",
    "cot_summarize_chain = cot_chain | summarize_chain\n",
    "cot_summarize_chain.invoke({\"question\": \"10 + 2 * 3\"})"
   ]
  },
  {
   "cell_type": "code",
   "execution_count": 15,
   "metadata": {},
   "outputs": [
    {
     "name": "stdout",
     "output_type": "stream",
     "text": [
      "HELLO! HOW CAN I ASSIST YOU TODAY?\n"
     ]
    }
   ],
   "source": [
    "from langchain_core.output_parsers import StrOutputParser\n",
    "from langchain_core.prompts import ChatPromptTemplate\n",
    "from langchain_openai import ChatOpenAI\n",
    "\n",
    "prompt = ChatPromptTemplate.from_messages(\n",
    "    [\n",
    "        (\"system\", \"You are a helpful assistant.\"),\n",
    "        (\"human\", \"{input}\"),\n",
    "    ]\n",
    ")\n",
    "\n",
    "model = ChatOpenAI(model=\"gpt-4o-mini\", temperature=0)\n",
    "output_parser = StrOutputParser()\n",
    "\n",
    "from langchain_core.runnables import RunnableLambda\n",
    "\n",
    "def upper(text: str) -> str:\n",
    "    return text.upper()\n",
    "\n",
    "chain = prompt | model | output_parser | RunnableLambda(upper)\n",
    "output = chain.invoke({\"input\": \"Hello!\"})\n",
    "print(output)"
   ]
  },
  {
   "cell_type": "code",
   "execution_count": 14,
   "metadata": {},
   "outputs": [
    {
     "name": "stdout",
     "output_type": "stream",
     "text": [
      "{'original_response': 'このテキストは、話し手が「今日は天気が良くて散歩に行った」という内容を伝えています。具体的には、以下のポイントが含まれています：\\n\\n1. **天気**: 「今日は天気が良い」と述べており、晴れや快適な気候であることを示しています。\\n2. **行動**: 「散歩に行きました」という行動が記されています。これは、外に出て歩くことを楽しんだことを意味します。\\n3. **時間**: 「今日」という言葉から、現在の時間に関連する出来事であることがわかります。\\n\\n全体として、ポジティブな気持ちやリフレッシュした様子が伝わる文です。散歩は健康にも良い活動であり、天気が良い日は特に楽しめるものです。', 'sentiment': 'positive', 'word_count': 11, 'contains_question': False}\n"
     ]
    }
   ],
   "source": [
    "from langchain_core.output_parsers import StrOutputParser\n",
    "from langchain_core.prompts import ChatPromptTemplate\n",
    "from langchain_openai import ChatOpenAI\n",
    "from langchain_core.runnables import RunnableLambda\n",
    "\n",
    "# モデルとプロンプトの設定\n",
    "prompt = ChatPromptTemplate.from_messages([\n",
    "    (\"system\", \"あなたは優秀な助手です。\"),\n",
    "    (\"human\", \"以下のテキストについて教えてください: {input}\"),\n",
    "])\n",
    "model = ChatOpenAI(model=\"gpt-4o-mini\", temperature=0)\n",
    "output_parser = StrOutputParser()\n",
    "\n",
    "# 感情分析を行う関数\n",
    "def analyze_sentiment(text: str) -> dict:\n",
    "    \"\"\"テキストの感情を分析し、結果をJSONとして返す\"\"\"\n",
    "    # 実際にはここでより洗練された感情分析を行うこともできます\n",
    "    # 例：NLTKやTextBlobなどのライブラリを使用\n",
    "\n",
    "    sentiment = \"neutral\"\n",
    "    if \"素晴らしい\" in text or \"良い\" in text or \"happy\" in text:\n",
    "        sentiment = \"positive\"\n",
    "    elif \"残念\" in text or \"悪い\" in text or \"sad\" in text:\n",
    "        sentiment = \"negative\"\n",
    "\n",
    "    word_count = len(text.split())\n",
    "\n",
    "    return {\n",
    "        \"original_response\": text,\n",
    "        \"sentiment\": sentiment,\n",
    "        \"word_count\": word_count,\n",
    "        \"contains_question\": \"?\" in text or \"？\" in text\n",
    "    }\n",
    "\n",
    "# チェーンの構築\n",
    "chain = prompt | model | output_parser | RunnableLambda(analyze_sentiment)\n",
    "\n",
    "# 実行\n",
    "result = chain.invoke({\"input\": \"今日は天気が良くて散歩に行きました。\"})\n",
    "print(result)"
   ]
  },
  {
   "cell_type": "code",
   "execution_count": 18,
   "metadata": {},
   "outputs": [
    {
     "name": "stdout",
     "output_type": "stream",
     "text": [
      "HELLO! HOW CAN I ASSIST YOU TODAY?\n"
     ]
    }
   ],
   "source": [
    "from langchain_core.runnables import chain\n",
    "\n",
    "def upper(text: str) -> str:\n",
    "    return text.upper()\n",
    "\n",
    "chain = prompt | model | output_parser | upper\n",
    "output = chain.invoke({\"input\": \"Hello!\"})\n",
    "print(output)"
   ]
  },
  {
   "cell_type": "code",
   "execution_count": 17,
   "metadata": {},
   "outputs": [],
   "source": [
    "def upper(text: str) -> str:\n",
    "    return text.upper()\n",
    "chain = prompt | model | output_parser | upper"
   ]
  },
  {
   "cell_type": "code",
   "execution_count": 19,
   "metadata": {},
   "outputs": [
    {
     "name": "stdout",
     "output_type": "stream",
     "text": [
      "HELLO! HOW CAN I ASSIST YOU TODAY?"
     ]
    }
   ],
   "source": [
    "from typing import Iterator\n",
    "\n",
    "def upper(input_stream: Iterator[str]) -> Iterator[str]:\n",
    "   for text in input_stream:\n",
    "       yield text.upper()\n",
    "\n",
    "chain = prompt | model | StrOutputParser() | upper\n",
    "\n",
    "for chunk in chain.stream({\"input\": \"Hello!\"}):\n",
    "   print(chunk, end=\"\", flush=True)"
   ]
  },
  {
   "cell_type": "code",
   "execution_count": 20,
   "metadata": {},
   "outputs": [
    {
     "name": "stdout",
     "output_type": "stream",
     "text": [
      "{'optimistic_opinion': '生成AIの進化は本当に素晴らしいですね！技術が進むことで、私たちの生活がより便利で豊かになる可能性が広がっています。クリエイティブな作業や問題解決の手助けをしてくれるAIが登場することで、私たちのアイデアや想像力をさらに引き出してくれるでしょう。これからの未来、生成AIがどのように私たちの社会を変えていくのか、ワクワクしますね！新しい発見や革新が待っていると思うと、期待が膨らみます！',\n",
      " 'pessimistic_opinion': '生成AIの進化は確かに目覚ましいものがありますが、その一方で多くの懸念も抱えています。技術が進化することで、私たちの仕事が奪われたり、情報の信頼性が低下したりするリスクが高まっています。さらに、AIが生成するコンテンツが人間の創造性を脅かし、私たちの思考や感情に悪影響を及ぼす可能性もあります。結局のところ、便利さの裏には常にリスクが潜んでいるのです。私たちがこの技術をどのように扱うかが、未来にどれほどの影響を与えるかは不透明で、楽観的に考えることは難しいですね。'}\n"
     ]
    }
   ],
   "source": [
    "from langchain_core.output_parsers import StrOutputParser\n",
    "from langchain_core.prompts import ChatPromptTemplate\n",
    "from langchain_openai import ChatOpenAI\n",
    "\n",
    "model = ChatOpenAI(model=\"gpt-4o-mini\", temperature=0)\n",
    "output_parser = StrOutputParser()\n",
    "\n",
    "optimistic_prompt = ChatPromptTemplate.from_messages(\n",
    "   [\n",
    "       (\"system\", \"あなたは楽観主義者です。ユーザーの入力に対して楽観的な意見をください。\"),\n",
    "       (\"human\", \"{topic}\"),\n",
    "   ]\n",
    ")\n",
    "optimistic_chain = optimistic_prompt | model | output_parser\n",
    "\n",
    "pessimistic_prompt = ChatPromptTemplate.from_messages(\n",
    "   [\n",
    "       (\"system\", \"あなたは悲観主義者です。ユーザーの入力に対して悲観的な意見をください。\"),\n",
    "       (\"human\", \"{topic}\"),\n",
    "   ]\n",
    ")\n",
    "pessimistic_chain = pessimistic_prompt | model | output_parser\n",
    "\n",
    "import pprint\n",
    "from langchain_core.runnables import RunnableParallel\n",
    "\n",
    "parallel_chain = RunnableParallel(\n",
    "   {\n",
    "       \"optimistic_opinion\": optimistic_chain,\n",
    "       \"pessimistic_opinion\": pessimistic_chain,\n",
    "   }\n",
    ")\n",
    "output = parallel_chain.invoke({\"topic\": \"生成AIの進化について\"})\n",
    "pprint.pprint(output)"
   ]
  },
  {
   "cell_type": "code",
   "execution_count": 21,
   "metadata": {},
   "outputs": [
    {
     "name": "stdout",
     "output_type": "stream",
     "text": [
      "生成AIの進化については、楽観的な意見と悲観的な意見が存在します。楽観的な見方では、生成AIが私たちの生活を便利で豊かにし、クリエイティブな作業や問題解決のパートナーとしての役割を果たすことで、教育や医療、エンターテインメントなどの分野で革新を促進し、社会全体の進化に寄与する可能性が強調されています。\n",
      "\n",
      "一方で、悲観的な見方では、生成AIの進化には多くの懸念が伴い、仕事の喪失や情報の信頼性の低下、さらには人間の創造性や思考に対する悪影響が指摘されています。便利さの裏にはリスクが潜んでおり、技術の影響を完全にコントロールすることは難しいという警告がなされています。\n",
      "\n",
      "このように、生成AIの進化は多くの可能性を秘めている一方で、慎重な取り扱いや倫理的な配慮が求められることが共通して認識されています。\n"
     ]
    }
   ],
   "source": [
    "synthesize_prompt = ChatPromptTemplate.from_messages(\n",
    "   [\n",
    "       (\"system\", \"あなたは客観的AIです。2つの意見をまとめてください。\"),\n",
    "       (\"human\", \"楽観的意見: {optimistic_opinion}\\n悲観的意見: {pessimistic_opinion}\"),\n",
    "   ]\n",
    ")\n",
    "\n",
    "# keyがstringで値がRunnableのdictはRunnableParallelに自動変換される。\n",
    "# よってRunnableParallelは省略可能\n",
    "synthesize_chain = (\n",
    "   RunnableParallel(\n",
    "       {\n",
    "           \"optimistic_opinion\": optimistic_chain,\n",
    "           \"pessimistic_opinion\": pessimistic_chain,\n",
    "       }\n",
    "   )\n",
    "   | synthesize_prompt\n",
    "   | model\n",
    "   | output_parser\n",
    ")\n",
    "\n",
    "output = synthesize_chain.invoke({\"topic\": \"生成AIの進化について\"})\n",
    "print(output)"
   ]
  },
  {
   "cell_type": "code",
   "execution_count": 22,
   "metadata": {},
   "outputs": [
    {
     "name": "stdout",
     "output_type": "stream",
     "text": [
      "**楽観的意見:** 生成AIの進化は、私たちの生活をより便利で豊かにする可能性を秘めています。技術の進歩により、クリエイティブな作業や問題解決の支援を行うAIが登場し、私たちのアイデアや想像力を引き出す手助けをしてくれるでしょう。未来において、生成AIがどのように社会を変革していくのか、期待が高まります。新しい発見や革新が待っていると考えると、ワクワクする気持ちが膨らみます。\n",
      "\n",
      "**悲観的意見:** 生成AIの進化には多くの懸念が伴います。技術の進化が進むことで、仕事の喪失や情報の信頼性の低下といったリスクが増大します。また、AIが生成するコンテンツが氾濫することで、オリジナリティやクリエイティビティが損なわれる可能性もあります。便利さの裏には常に代償が伴い、この技術を手に入れることで本当に幸せになれるのか、疑問が残ります。\n"
     ]
    }
   ],
   "source": [
    "from operator import itemgetter\n",
    "\n",
    "synthesize_prompt = ChatPromptTemplate.from_messages(\n",
    "   [\n",
    "       (\n",
    "           \"system\",\n",
    "           \"あなたは客観的AIです。{topic}について2つの意見をまとめてください。\",\n",
    "       ),\n",
    "       (\n",
    "           \"human\",\n",
    "           \"楽観的意見: {optimistic_opinion}\\n悲観的意見: {pessimistic_opinion}\",\n",
    "       ),\n",
    "   ]\n",
    ")\n",
    "\n",
    "synthesize_chain = (\n",
    "   {\n",
    "       \"optimistic_opinion\": optimistic_chain,\n",
    "       \"pessimistic_opinion\": pessimistic_chain,\n",
    "       \"topic\": itemgetter(\"topic\"),\n",
    "   }\n",
    "   | synthesize_prompt\n",
    "   | model\n",
    "   | output_parser\n",
    ")\n",
    "\n",
    "output = synthesize_chain.invoke({\"topic\": \"生成AIの進化について\"})\n",
    "print(output)"
   ]
  },
  {
   "cell_type": "code",
   "execution_count": 24,
   "metadata": {},
   "outputs": [],
   "source": [
    "from langchain_core.prompts import ChatPromptTemplate\n",
    "from langchain_openai import ChatOpenAI\n",
    "prompt = ChatPromptTemplate.from_template('''\\\n",
    "以下の文脈だけを踏まえて質問に回答してください。\n",
    "文脈: \"\"\"\n",
    "{context}\n",
    "\"\"\"\n",
    "質問: {question}\n",
    "''')\n",
    "model = ChatOpenAI(model_name=\"gpt-4o-mini\", temperature=0)"
   ]
  },
  {
   "cell_type": "code",
   "execution_count": 25,
   "metadata": {},
   "outputs": [],
   "source": [
    "from langchain_community.retrievers import TavilySearchAPIRetriever\n",
    "retriever = TavilySearchAPIRetriever(k=3)"
   ]
  },
  {
   "cell_type": "code",
   "execution_count": 29,
   "metadata": {},
   "outputs": [
    {
     "name": "stdout",
     "output_type": "stream",
     "text": [
      "東京の今日、2月8日（土）の天気は晴れで、最高気温は9℃、最低気温は-1℃です。降水確率は10%となっています。北西の風がやや強く吹く予想です。\n"
     ]
    }
   ],
   "source": [
    "from langchain_core.runnables import RunnablePassthrough\n",
    "\n",
    "chain = (\n",
    "   {\"context\": retriever, \"question\": RunnablePassthrough()}\n",
    "   | prompt\n",
    "   | model\n",
    "   | StrOutputParser()\n",
    ")\n",
    "\n",
    "output = chain.invoke(\"東京の今日の天気は？\")\n",
    "print(output)"
   ]
  },
  {
   "cell_type": "code",
   "execution_count": 30,
   "metadata": {},
   "outputs": [
    {
     "name": "stdout",
     "output_type": "stream",
     "text": [
      "{'answer': '東京の今日、2025年2月8日（土）の天気は晴れで、最高気温は9℃、最低気温は-1℃です。降水確率は10%となっています。北西の風がやや強く吹く予想です。',\n",
      " 'context': [Document(metadata={'title': '東京都の天気 - 日本気象協会 tenki.jp', 'source': 'https://tenki.jp/forecast/3/16/', 'score': 0.8875269, 'images': []}, page_content='東京都の天気 - 日本気象協会 tenki.jp tenki.jpトップ｜ サイトマップ｜ ヘルプ tenki.jp 検索 現在地 天気予報 天気予報 世界天気 2週間天気 長期予報 雨雲レーダー 積雪マップ PM2.5分布予測 黄砂情報 雷(予報) 道路気象 観測 雨雲レーダー(過去) アメダス 実況天気 過去天気 雷(実況) 防災情報 警報・注意報 地震情報 津波情報 火山情報 台風情報 知る防災 天気図 天気図 気象衛星 世界衛星 指数情報 洗濯 服装 お出かけ 星空 傘 紫外線 体感温度 洗車 睡眠 ヒートテック 水道凍結 うるおい 霜 風邪ひき 暖房 鍋もの 寒暖差 レジャー天気 山の天気 海の天気 空港 野球場 サッカー場 ゴルフ場 キャンプ場 競馬・競艇・競輪場 釣り お出かけスポット天気 季節特集 花粉飛散情報 桜開花情報 GWの天気 梅雨入り・明け 熱中症情報 紅葉見頃情報 ヒートショック予報 スキー積雪情報 初日の出 天気ニュース 気象予報士のポイント解説 季節・暮らしの話題 放送局のニュース 特集 雨雲レーダー 天気図 PM2.5分布予測 地震情報 気象予報士の解説 スキー積雪情報注目 トップ 関東・甲信地方 東京都 【お詫び】tenki.jpがご利用しづらい事象について 東京都の天気 08(土) 09(日) 10(月) 11(火) 12(水) 13(木) 14(金) 15(土) 16(日) 17(月) 18(火) 08日10:00発表02月08日(土) 千代田区 10/1 10% 新宿区 9/0 10% 世田谷区 9/0 10% 三鷹市 9/0 10% 八王子市 10/-1 10% 青梅市 9/-3 10% 大島町 9/3 10% 八丈町 8/3 50% 小笠原村 18/18 40% 練馬区 9/0 10% 台東区 10/1 10% 品川区 10/1 0% 町田市 10/-1 10% 立川市 9/-1 10% 現在地の天気 住所から検索 渋谷区 9 / 0 10% 豊島区 9 / 0 10% 江東区 10 / 1 10% 港区 10 / 1 10% 大田区 10 / 1 10% 府中市 9 / -1 10% 奥多摩町 6 / -4 10% その他の市区町村 関東地方は広く晴れて、沿岸部を中心に風が強めに吹いています。南部ではこのあともおおむね晴れるでしょう。群馬や栃木は平地でも雪がチラつき、沼田や日光など北部の山沿いは大雪になりそうです。日中の最高気温は8度から10度くらいで、北よりの風が冷たいでしょう。寒さ対策をしっかりとなさってください。あす日曜日も同じような天気となり、厳しい寒さが続きそうです。 関東・甲信 気象予報士のポイント解説(日直予報士) 今日8日も日本海側は大雪や暴風雪 東海以西の太平洋側も雪による交通の乱れに注意 02/08(土)08:25 花粉の飛散予測 九州から関東「少ない」 南風や気温の上昇で飛散量が増える可能性も 02/08(土)06:50 週末も冬の嵐 8日は名古屋など市街地でも積雪 北陸や東北を中心に積雪が急増 02/08(土)05:58 解説記事一覧 東京都各地の天気 東京23区 千代田区 中央区 港区 新宿区 文京区 台東区 墨田区 江東区 品川区 目黒区 大田区 世田谷区 渋谷区 中野区 杉並区 豊島区 北区 荒川区 板橋区 練馬区 足立区 葛飾区 江戸川区 多摩 八王子市 立川市 武蔵野市 三鷹市 青梅市 府中市 昭島市 調布市 町田市 小金井市 小平市 日野市 東村山市 国分寺市 国立市 福生市 狛江市 東大和市 清瀬市 東久留米市 武蔵村山市 多摩市 稲城市 羽村市 あきる野市 西東京市 瑞穂町 日の出町 檜原村 奥多摩町 伊豆諸島北部(大島) 大島町 利島村 新島村 神津島村 伊豆諸島南部(八丈島) 三宅村 御蔵島村 八丈町 青ヶ島村 小笠原諸島(父島) 小笠原村 おすすめ記事 ツイート @tenkijpさんをフォロー 天気ガイド 衛星 天気図 雨雲 アメダス PM2.5 注目の情報 「知る防災」で正しい防災知識を!'),\n",
      "             Document(metadata={'title': '東京（東京）の天気 - Yahoo!天気・災害', 'source': 'https://weather.yahoo.co.jp/weather/jp/13/4410.html', 'score': 0.84948516, 'images': []}, page_content='パーソナル天気 現在位置： 天気・災害トップ > 関東・信越 > 東京都 > 東京（東京） 大雪に警戒 交通影響や今後の見通し ・大雪への備え ・雨雪レーダー ・警報・注意報 ・運行情報 ・週間天気 今日明日の天気 2025年2月8日 10時00分発表 2月8日(土) 晴れ 9℃[-1] 1℃[0] 時間 0-6 6-12 12-18 18-24 降水 --- 10％ 10％ 10％ 風： 北西の風日中やや強く２３区西部でははじめ北西の風強く 波： 2メートル後1メートル 2月9日(日) 晴れ 11℃[+2] 3℃[+2] 時間 0-6 6-12 12-18 18-24 降水 0％ 0％ 10％ 0％ 風： 北西の風後北の風２３区西部では北西の風やや強く 波： 1メートル 東京地方の警報・注意報 注意報 強風、波浪、乾燥 東京都の花粉情報 2025年2月8日 7時00分 発表 2/8(土) 少ない 2/9(日) 少ない 花粉の詳しい情報を確認 週間天気 2025年2月8日 8時00分発表 日付 2月10日 (月) 2月11日 (火) 2月12日 (水) 2月13日 (木) 2月14日 (金) 2月15日 (土) 天気 晴れ 晴れ 晴時々曇 晴時々曇 晴時々曇 晴時々曇 気温（℃） 11 2 11 1 14 2 15 4 14 3 12 3 降水 確率（％） 0 0 10 20 0 10 今日明日の指数情報 2025年2月8日 10時00分 発表 2月8日（土） 2月9日（日） 洗濯 洗濯指数90 絶好の洗濯日和。バスタオルも速乾 傘 傘指数20 傘の出番はなさそう 紫外線 紫外線指数20 紫外線対策は軽めで十分 重ね着 重ね着指数100 真冬のコートとマフラーや手袋の出番 乾燥 乾燥指数90 お風呂上がりは全身保湿を忘れずに 風邪注意 風邪注意指数80 加湿を心がけた方がよさそう 雨雲レーダー (C) Mapbox (C) OpenStreetMap (C) LY Corporation Yahoo!地図ガイドライン 天気図 気象衛星 ピンポイント天気 千代田区 中央区 港区 新宿区 文京区 台東区 墨田区 江東区 品川区 目黒区 大田区 世田谷区 渋谷区 中野区 杉並区 豊島区 北区 荒川区 板橋区 練馬区 足立区 葛飾区 江戸川区 八王子市 立川市 武蔵野市 三鷹市 青梅市 府中市 昭島市 調布市 町田市 小金井市 小平市 日野市 東村山市 国分寺市 国立市 福生市 狛江市 東大和市 清瀬市 東久留米市 武蔵村山市 多摩市 稲城市 羽村市 あきる野市 西東京市 瑞穂町 日の出町 檜原村 奥多摩町 東京（東京）エリアの情報 雨雲レーダー（実況～6時間後） (C) Mapbox (C) OpenStreetMap (C) LY Corporation Yahoo!地図ガイドライン 詳細を見る 防災情報 警報・注意報 台風 土砂災害マップ 洪水マップ 河川水位 火山 地震 津波 避難情報 避難場所マップ 停電情報 災害カレンダー 防災手帳 防災速報 天気ガイド 天気予報 気象衛星 天気図 アメダス 雨雲レーダー 雷レーダー 週間天気 長期予報 波予測 風予測 潮汐情報 世界の天気 花粉情報 雨雪レーダー 過去の天気（外部サイト） 再生する 2/8(土)9時 寒波ピーク 新たな大雪災害に警戒 あす朝にかけてさらに70〜80センチの降雪予想 レジャー施設 空港 ゴルフ場 釣り・潮汐情報 キャンプ場 マリン 野球場 テーマパーク 競馬場 サッカー場・競技場 プライバシーポリシー - プライバシーセンター - 利用規約 - ご意見・ご要望 - 広告掲載について - ヘルプ・お問い合わせ Copyright (C) 2025 Weather Map Co., Ltd. All Rights Reserved. © LY Corporation'),\n",
      "             Document(metadata={'title': '東京の天気 - ウェザーニュース', 'source': 'https://weathernews.jp/onebox/tenki/tokyo/', 'score': 0.734139, 'images': []}, page_content='マイソリューション The Last 10-Second トップ 関東 東京 東京の天気予報 東京都千代田区の1時間毎の天気 日 時 天気 降水ミリ 気温℃ 風速m 前へ 次へ 千代田区の詳しい天気はこちら 東京都千代田区の週間天気予報（10日間） 日 天気 最高℃ 最低℃ 降水% 東京の2週間天気はこちら 市区町村別の天気予報 東京地方 千代田区 中央区 港区 新宿区 文京区 台東区 墨田区 江東区 品川区 目黒区 大田区 世田谷区 渋谷区 中野区 杉並区 豊島区 北区 荒川区 板橋区 練馬区 足立区 葛飾区 江戸川区 八王子市 立川市 武蔵野市 三鷹市 青梅市 府中市 昭島市 調布市 町田市 小金井市 小平市 日野市 東村山市 国分寺市 国立市 福生市 狛江市 東大和市 清瀬市 東久留米市 武蔵村山市 多摩市 稲城市 羽村市 あきる野市 西東京市 瑞穂町 日の出町 檜原村 奥多摩町 伊豆諸島北部 大島町 利島村 新島村 神津島村 伊豆諸島南部 三宅村 御蔵島村 八丈町 青ヶ島村 小笠原諸島 小笠原村 お天気ニュース お天気ニュースをもっと読む お天気ニュースをもっと読む 東京のアメダスランキング 気温 降水量 風 降雪量 湿度 順位 地点 観測値 アメダスランキングをもっと見る ウェザーニュースLiVE もっと見る 注目のお出かけスポット天気（関東甲信） 東京ディズニーランド 富士急ハイランド 横浜・八景島シーパラダイス さがみ湖MORIMORI よみうりランド ワーナー ブラザース スタジオツアー東京 メイキング・オブ・ハリー・ポッター 東京ドームシティアトラクションズ 箱根園（プリンスグランドリゾート箱根） サンリオピューロランド 池の平ファミリーランド（白樺リゾート） 各エリアの天気予報 北海道 道央 道南 道北 道東 東北 青森 岩手 秋田 宮城 山形 福島 関東 東京 神奈川 埼玉 千葉 茨城 栃木 群馬 中部 静岡 愛知 岐阜 山梨 長野 新潟 富山 石川 福井 近畿 大阪 兵庫 京都 滋賀 奈良 和歌山 三重 中国 広島 岡山 山口 島根 鳥取 四国 香川 徳島 愛媛 高知 九州 福岡 佐賀 長崎 大分 熊本 宮崎 鹿児島 沖縄 東京のアメダスランキング 気温 降水量 風 降雪量 湿度 順位 地点 観測値 アメダスランキングをもっと見る 天気メニュー 天気予報 お天気ニュース アメダス(実況天気) 雨雲レーダー ライブカメラ 落雷情報 衛星雲画像 天気図 長期予報 ライブ動画番組 世界天気 ウェザーリポート 防災・減災メニュー 警報・注意報 台風情報 地震情報 津波情報 火山情報 減災情報 ゲリラ雷雨情報 自然・季節・レジャー情報 ゴルフ場の天気 スポーツ天気 釣り情報 マリン情報 星空情報 花粉飛散情報 さくら開花情報 ほたる情報 あじさい情報 紫外線予報 天気痛予報 服装予報 お洗濯情報 熱中症情報 花火情報 紅葉情報 イルミネーション スキー＆スノボ 初日の出 初詣 風邪予防指数 乾燥指数 便利なメニュー 予報精度向上の取り組み 予報に関するFAQ SORASHOP Labs Ch.')],\n",
      " 'question': '東京の今日の天気は？'}\n"
     ]
    }
   ],
   "source": [
    "import pprint\n",
    "\n",
    "chain = {\n",
    "   \"question\": RunnablePassthrough(),\n",
    "   \"context\": retriever,\n",
    "} | RunnablePassthrough.assign(answer=prompt | model | StrOutputParser())\n",
    "\n",
    "output = chain.invoke(\"東京の今日の天気は？\")\n",
    "pprint.pprint(output)"
   ]
  },
  {
   "cell_type": "code",
   "execution_count": 31,
   "metadata": {},
   "outputs": [
    {
     "name": "stdout",
     "output_type": "stream",
     "text": [
      "{'answer': '東京の今日、2月8日（土）の天気は晴れで、最高気温は9℃、最低気温は-1℃です。降水確率は10%です。また、北西の風がやや強く吹いています。',\n",
      " 'context': [Document(metadata={'title': '東京都の天気 - 日本気象協会 tenki.jp', 'source': 'https://tenki.jp/forecast/3/16/', 'score': 0.8875269, 'images': []}, page_content='東京都の天気 - 日本気象協会 tenki.jp tenki.jpトップ｜ サイトマップ｜ ヘルプ tenki.jp 検索 現在地 天気予報 天気予報 世界天気 2週間天気 長期予報 雨雲レーダー 積雪マップ PM2.5分布予測 黄砂情報 雷(予報) 道路気象 観測 雨雲レーダー(過去) アメダス 実況天気 過去天気 雷(実況) 防災情報 警報・注意報 地震情報 津波情報 火山情報 台風情報 知る防災 天気図 天気図 気象衛星 世界衛星 指数情報 洗濯 服装 お出かけ 星空 傘 紫外線 体感温度 洗車 睡眠 ヒートテック 水道凍結 うるおい 霜 風邪ひき 暖房 鍋もの 寒暖差 レジャー天気 山の天気 海の天気 空港 野球場 サッカー場 ゴルフ場 キャンプ場 競馬・競艇・競輪場 釣り お出かけスポット天気 季節特集 花粉飛散情報 桜開花情報 GWの天気 梅雨入り・明け 熱中症情報 紅葉見頃情報 ヒートショック予報 スキー積雪情報 初日の出 天気ニュース 気象予報士のポイント解説 季節・暮らしの話題 放送局のニュース 特集 雨雲レーダー 天気図 PM2.5分布予測 地震情報 気象予報士の解説 スキー積雪情報注目 トップ 関東・甲信地方 東京都 【お詫び】tenki.jpがご利用しづらい事象について 東京都の天気 08(土) 09(日) 10(月) 11(火) 12(水) 13(木) 14(金) 15(土) 16(日) 17(月) 18(火) 08日10:00発表02月08日(土) 千代田区 10/1 10% 新宿区 9/0 10% 世田谷区 9/0 10% 三鷹市 9/0 10% 八王子市 10/-1 10% 青梅市 9/-3 10% 大島町 9/3 10% 八丈町 8/3 50% 小笠原村 18/18 40% 練馬区 9/0 10% 台東区 10/1 10% 品川区 10/1 0% 町田市 10/-1 10% 立川市 9/-1 10% 現在地の天気 住所から検索 渋谷区 9 / 0 10% 豊島区 9 / 0 10% 江東区 10 / 1 10% 港区 10 / 1 10% 大田区 10 / 1 10% 府中市 9 / -1 10% 奥多摩町 6 / -4 10% その他の市区町村 関東地方は広く晴れて、沿岸部を中心に風が強めに吹いています。南部ではこのあともおおむね晴れるでしょう。群馬や栃木は平地でも雪がチラつき、沼田や日光など北部の山沿いは大雪になりそうです。日中の最高気温は8度から10度くらいで、北よりの風が冷たいでしょう。寒さ対策をしっかりとなさってください。あす日曜日も同じような天気となり、厳しい寒さが続きそうです。 関東・甲信 気象予報士のポイント解説(日直予報士) 今日8日も日本海側は大雪や暴風雪 東海以西の太平洋側も雪による交通の乱れに注意 02/08(土)08:25 花粉の飛散予測 九州から関東「少ない」 南風や気温の上昇で飛散量が増える可能性も 02/08(土)06:50 週末も冬の嵐 8日は名古屋など市街地でも積雪 北陸や東北を中心に積雪が急増 02/08(土)05:58 解説記事一覧 東京都各地の天気 東京23区 千代田区 中央区 港区 新宿区 文京区 台東区 墨田区 江東区 品川区 目黒区 大田区 世田谷区 渋谷区 中野区 杉並区 豊島区 北区 荒川区 板橋区 練馬区 足立区 葛飾区 江戸川区 多摩 八王子市 立川市 武蔵野市 三鷹市 青梅市 府中市 昭島市 調布市 町田市 小金井市 小平市 日野市 東村山市 国分寺市 国立市 福生市 狛江市 東大和市 清瀬市 東久留米市 武蔵村山市 多摩市 稲城市 羽村市 あきる野市 西東京市 瑞穂町 日の出町 檜原村 奥多摩町 伊豆諸島北部(大島) 大島町 利島村 新島村 神津島村 伊豆諸島南部(八丈島) 三宅村 御蔵島村 八丈町 青ヶ島村 小笠原諸島(父島) 小笠原村 おすすめ記事 ツイート @tenkijpさんをフォロー 天気ガイド 衛星 天気図 雨雲 アメダス PM2.5 注目の情報 「知る防災」で正しい防災知識を!'),\n",
      "             Document(metadata={'title': '東京（東京）の天気 - Yahoo!天気・災害', 'source': 'https://weather.yahoo.co.jp/weather/jp/13/4410.html', 'score': 0.84948516, 'images': []}, page_content='パーソナル天気 現在位置： 天気・災害トップ > 関東・信越 > 東京都 > 東京（東京） 大雪に警戒 交通影響や今後の見通し ・大雪への備え ・雨雪レーダー ・警報・注意報 ・運行情報 ・週間天気 今日明日の天気 2025年2月8日 10時00分発表 2月8日(土) 晴れ 9℃[-1] 1℃[0] 時間 0-6 6-12 12-18 18-24 降水 --- 10％ 10％ 10％ 風： 北西の風日中やや強く２３区西部でははじめ北西の風強く 波： 2メートル後1メートル 2月9日(日) 晴れ 11℃[+2] 3℃[+2] 時間 0-6 6-12 12-18 18-24 降水 0％ 0％ 10％ 0％ 風： 北西の風後北の風２３区西部では北西の風やや強く 波： 1メートル 東京地方の警報・注意報 注意報 強風、波浪、乾燥 東京都の花粉情報 2025年2月8日 7時00分 発表 2/8(土) 少ない 2/9(日) 少ない 花粉の詳しい情報を確認 週間天気 2025年2月8日 8時00分発表 日付 2月10日 (月) 2月11日 (火) 2月12日 (水) 2月13日 (木) 2月14日 (金) 2月15日 (土) 天気 晴れ 晴れ 晴時々曇 晴時々曇 晴時々曇 晴時々曇 気温（℃） 11 2 11 1 14 2 15 4 14 3 12 3 降水 確率（％） 0 0 10 20 0 10 今日明日の指数情報 2025年2月8日 10時00分 発表 2月8日（土） 2月9日（日） 洗濯 洗濯指数90 絶好の洗濯日和。バスタオルも速乾 傘 傘指数20 傘の出番はなさそう 紫外線 紫外線指数20 紫外線対策は軽めで十分 重ね着 重ね着指数100 真冬のコートとマフラーや手袋の出番 乾燥 乾燥指数90 お風呂上がりは全身保湿を忘れずに 風邪注意 風邪注意指数80 加湿を心がけた方がよさそう 雨雲レーダー (C) Mapbox (C) OpenStreetMap (C) LY Corporation Yahoo!地図ガイドライン 天気図 気象衛星 ピンポイント天気 千代田区 中央区 港区 新宿区 文京区 台東区 墨田区 江東区 品川区 目黒区 大田区 世田谷区 渋谷区 中野区 杉並区 豊島区 北区 荒川区 板橋区 練馬区 足立区 葛飾区 江戸川区 八王子市 立川市 武蔵野市 三鷹市 青梅市 府中市 昭島市 調布市 町田市 小金井市 小平市 日野市 東村山市 国分寺市 国立市 福生市 狛江市 東大和市 清瀬市 東久留米市 武蔵村山市 多摩市 稲城市 羽村市 あきる野市 西東京市 瑞穂町 日の出町 檜原村 奥多摩町 東京（東京）エリアの情報 雨雲レーダー（実況～6時間後） (C) Mapbox (C) OpenStreetMap (C) LY Corporation Yahoo!地図ガイドライン 詳細を見る 防災情報 警報・注意報 台風 土砂災害マップ 洪水マップ 河川水位 火山 地震 津波 避難情報 避難場所マップ 停電情報 災害カレンダー 防災手帳 防災速報 天気ガイド 天気予報 気象衛星 天気図 アメダス 雨雲レーダー 雷レーダー 週間天気 長期予報 波予測 風予測 潮汐情報 世界の天気 花粉情報 雨雪レーダー 過去の天気（外部サイト） 再生する 2/8(土)9時 寒波ピーク 新たな大雪災害に警戒 あす朝にかけてさらに70〜80センチの降雪予想 レジャー施設 空港 ゴルフ場 釣り・潮汐情報 キャンプ場 マリン 野球場 テーマパーク 競馬場 サッカー場・競技場 プライバシーポリシー - プライバシーセンター - 利用規約 - ご意見・ご要望 - 広告掲載について - ヘルプ・お問い合わせ Copyright (C) 2025 Weather Map Co., Ltd. All Rights Reserved. © LY Corporation'),\n",
      "             Document(metadata={'title': '東京の天気 - ウェザーニュース', 'source': 'https://weathernews.jp/onebox/tenki/tokyo/', 'score': 0.734139, 'images': []}, page_content='マイソリューション The Last 10-Second トップ 関東 東京 東京の天気予報 東京都千代田区の1時間毎の天気 日 時 天気 降水ミリ 気温℃ 風速m 前へ 次へ 千代田区の詳しい天気はこちら 東京都千代田区の週間天気予報（10日間） 日 天気 最高℃ 最低℃ 降水% 東京の2週間天気はこちら 市区町村別の天気予報 東京地方 千代田区 中央区 港区 新宿区 文京区 台東区 墨田区 江東区 品川区 目黒区 大田区 世田谷区 渋谷区 中野区 杉並区 豊島区 北区 荒川区 板橋区 練馬区 足立区 葛飾区 江戸川区 八王子市 立川市 武蔵野市 三鷹市 青梅市 府中市 昭島市 調布市 町田市 小金井市 小平市 日野市 東村山市 国分寺市 国立市 福生市 狛江市 東大和市 清瀬市 東久留米市 武蔵村山市 多摩市 稲城市 羽村市 あきる野市 西東京市 瑞穂町 日の出町 檜原村 奥多摩町 伊豆諸島北部 大島町 利島村 新島村 神津島村 伊豆諸島南部 三宅村 御蔵島村 八丈町 青ヶ島村 小笠原諸島 小笠原村 お天気ニュース お天気ニュースをもっと読む お天気ニュースをもっと読む 東京のアメダスランキング 気温 降水量 風 降雪量 湿度 順位 地点 観測値 アメダスランキングをもっと見る ウェザーニュースLiVE もっと見る 注目のお出かけスポット天気（関東甲信） 東京ディズニーランド 富士急ハイランド 横浜・八景島シーパラダイス さがみ湖MORIMORI よみうりランド ワーナー ブラザース スタジオツアー東京 メイキング・オブ・ハリー・ポッター 東京ドームシティアトラクションズ 箱根園（プリンスグランドリゾート箱根） サンリオピューロランド 池の平ファミリーランド（白樺リゾート） 各エリアの天気予報 北海道 道央 道南 道北 道東 東北 青森 岩手 秋田 宮城 山形 福島 関東 東京 神奈川 埼玉 千葉 茨城 栃木 群馬 中部 静岡 愛知 岐阜 山梨 長野 新潟 富山 石川 福井 近畿 大阪 兵庫 京都 滋賀 奈良 和歌山 三重 中国 広島 岡山 山口 島根 鳥取 四国 香川 徳島 愛媛 高知 九州 福岡 佐賀 長崎 大分 熊本 宮崎 鹿児島 沖縄 東京のアメダスランキング 気温 降水量 風 降雪量 湿度 順位 地点 観測値 アメダスランキングをもっと見る 天気メニュー 天気予報 お天気ニュース アメダス(実況天気) 雨雲レーダー ライブカメラ 落雷情報 衛星雲画像 天気図 長期予報 ライブ動画番組 世界天気 ウェザーリポート 防災・減災メニュー 警報・注意報 台風情報 地震情報 津波情報 火山情報 減災情報 ゲリラ雷雨情報 自然・季節・レジャー情報 ゴルフ場の天気 スポーツ天気 釣り情報 マリン情報 星空情報 花粉飛散情報 さくら開花情報 ほたる情報 あじさい情報 紫外線予報 天気痛予報 服装予報 お洗濯情報 熱中症情報 花火情報 紅葉情報 イルミネーション スキー＆スノボ 初日の出 初詣 風邪予防指数 乾燥指数 便利なメニュー 予報精度向上の取り組み 予報に関するFAQ SORASHOP Labs Ch.')]}\n"
     ]
    }
   ],
   "source": [
    "chain = (\n",
    "    RunnableParallel(\n",
    "        {\n",
    "            \"question\": RunnablePassthrough(),\n",
    "            \"context\": retriever,\n",
    "        }\n",
    "    )\n",
    "    .assign(answer=prompt | model | StrOutputParser())\n",
    "    .pick([\"context\", \"answer\"])\n",
    ")\n",
    "output = chain.invoke(\"東京の今日の天気は？\")\n",
    "pprint.pprint(output)"
   ]
  }
 ],
 "metadata": {
  "kernelspec": {
   "display_name": "learn-rag-ai-agent-0iCzrxPH-py3.11",
   "language": "python",
   "name": "python3"
  },
  "language_info": {
   "codemirror_mode": {
    "name": "ipython",
    "version": 3
   },
   "file_extension": ".py",
   "mimetype": "text/x-python",
   "name": "python",
   "nbconvert_exporter": "python",
   "pygments_lexer": "ipython3",
   "version": "3.11.11"
  }
 },
 "nbformat": 4,
 "nbformat_minor": 2
}
