{
 "cells": [
  {
   "cell_type": "code",
   "execution_count": 1,
   "metadata": {},
   "outputs": [
    {
     "data": {
      "text/plain": [
       "True"
      ]
     },
     "execution_count": 1,
     "metadata": {},
     "output_type": "execute_result"
    }
   ],
   "source": [
    "import os\n",
    "\n",
    "from dotenv import load_dotenv\n",
    "\n",
    "load_dotenv()"
   ]
  },
  {
   "cell_type": "code",
   "execution_count": null,
   "metadata": {},
   "outputs": [
    {
     "name": "stdout",
     "output_type": "stream",
     "text": [
      "content='カレーのレシピをご紹介します！以下は基本的なチキンカレーのレシピです。\\n\\n### 材料（4人分）\\n- 鶏もも肉：400g（食べやすい大きさにカット）\\n- 玉ねぎ：2個（みじん切り）\\n- にんにく：2片（みじん切り）\\n- 生姜：1片（みじん切り）\\n- トマト：1個（ざく切り）\\n- カレーパウダー：大さじ2\\n- ココナッツミルク：200ml（または水）\\n- サラダ油：大さじ2\\n- 塩：適量\\n- 黒胡椒：適量\\n- パクチー（お好みで）：適量\\n\\n### 作り方\\n1. **下ごしらえ**: 鶏肉に塩と黒胡椒をふりかけて下味をつけておきます。\\n2. **玉ねぎを炒める**: 大きめの鍋にサラダ油を熱し、みじん切りにした玉ねぎを加え、中火で透明になるまで炒めます。\\n3. **香味野菜を加える**: にんにくと生姜を加え、香りが立つまでさらに炒めます。\\n4. **鶏肉を加える**: 鶏肉を鍋に加え、表面が白くなるまで炒めます。\\n5. **トマトとスパイスを加える**: ざく切りにしたトマトとカレーパウダーを加え、全体をよく混ぜます。\\n6. **煮込む**: ココナッツミルクを加え、全体がなじむように混ぜたら、蓋をして中火で約20分煮込みます。時々かき混ぜてください。\\n7. **味を調える**: 最後に塩で味を調整し、必要に応じて水を足して好みの濃度にします。\\n8. **盛り付け**: お皿に盛り付け、お好みでパクチーを散らして完成です。\\n\\n### 提供方法\\nご飯やナンと一緒にお召し上がりください。辛さが足りない場合は、チリパウダーやハラペーニョを加えて調整できます。\\n\\nお楽しみください！' additional_kwargs={'refusal': None} response_metadata={'token_usage': {'completion_tokens': 572, 'prompt_tokens': 28, 'total_tokens': 600, 'completion_tokens_details': {'accepted_prediction_tokens': 0, 'audio_tokens': 0, 'reasoning_tokens': 0, 'rejected_prediction_tokens': 0}, 'prompt_tokens_details': {'audio_tokens': 0, 'cached_tokens': 0}}, 'model_name': 'gpt-4o-mini-2024-07-18', 'system_fingerprint': 'fp_b376dfbbd5', 'id': 'chatcmpl-BHp9tNCzefzMyqz6gLSNcBKqD8lrZ', 'finish_reason': 'stop', 'logprobs': None} id='run-f9158c71-da0c-4c83-96b3-7e3e7985b80d-0' usage_metadata={'input_tokens': 28, 'output_tokens': 572, 'total_tokens': 600, 'input_token_details': {'audio': 0, 'cache_read': 0}, 'output_token_details': {'audio': 0, 'reasoning': 0}}\n"
     ]
    }
   ],
   "source": [
    "from langchain_core.prompts import ChatPromptTemplate\n",
    "from langchain_openai import ChatOpenAI\n",
    "\n",
    "prompt = ChatPromptTemplate.from_messages(\n",
    "    [\n",
    "        (\"system\", \"ユーザーが入力した料理のレシピを考えてください。\"),\n",
    "        (\"human\", \"{dish}\"),\n",
    "    ]\n",
    ")\n",
    "\n",
    "model = ChatOpenAI(model_name=\"gpt-4o-mini\", temperature=0)\n",
    "\n",
    "chain = prompt | model\n",
    "\n",
    "# chain.invoke メソッドは、プロンプトテンプレート内の変数を埋めるための入力値を辞書形式で受け取ります。\n",
    "ai_message = chain.invoke({\"dish\": \"カレー\"})\n",
    "\n",
    "print(ai_message)\n"
   ]
  },
  {
   "cell_type": "code",
   "execution_count": 6,
   "metadata": {},
   "outputs": [
    {
     "name": "stdout",
     "output_type": "stream",
     "text": [
      "カレーのレシピをご紹介します。シンプルで美味しい基本のカレーを作りましょう。\n",
      "\n",
      "### 材料（4人分）\n",
      "- 鶏肉（もも肉または胸肉）: 400g\n",
      "- 玉ねぎ: 2個\n",
      "- にんじん: 1本\n",
      "- じゃがいも: 2個\n",
      "- カレールー: 1箱（約200g）\n",
      "- サラダ油: 大さじ2\n",
      "- 水: 800ml\n",
      "- 塩: 適量\n",
      "- 胡椒: 適量\n",
      "- お好みでガーリックパウダーや生姜: 適量\n",
      "\n",
      "### 作り方\n",
      "1. **材料の下ごしらえ**:\n",
      "   - 鶏肉は一口大に切り、塩と胡椒をふっておきます。\n",
      "   - 玉ねぎは薄切り、にんじんは輪切り、じゃがいもは一口大に切ります。\n",
      "\n",
      "2. **炒める**:\n",
      "   - 大きめの鍋にサラダ油を熱し、玉ねぎを中火で炒めます。玉ねぎが透明になるまで炒めます。\n",
      "   - 鶏肉を加え、表面が白くなるまで炒めます。\n",
      "\n",
      "3. **野菜を加える**:\n",
      "   - にんじんとじゃがいもを鍋に加え、全体をよく混ぜます。\n",
      "\n",
      "4. **煮る**:\n",
      "   - 水を加え、強火で煮立たせます。煮立ったら、アクを取り除き、中火にして蓋をし、約15分煮ます。\n",
      "\n",
      "5. **カレールーを加える**:\n",
      "   - カレールーを割り入れ、よく溶かします。さらに10分ほど煮込み、全体がなじんだら火を止めます。\n",
      "\n",
      "6. **味を調える**:\n",
      "   - お好みで塩や胡椒で味を調整します。\n",
      "\n",
      "7. **盛り付け**:\n",
      "   - ご飯と一緒に盛り付けて、お好みで福神漬けやらっきょうを添えて完成です。\n",
      "\n",
      "### おすすめのトッピング\n",
      "- 煮卵\n",
      "- チーズ\n",
      "- ほうれん草のソテー\n",
      "\n",
      "この基本のカレーは、具材を変えたり、スパイスを追加したりすることでアレンジが可能です。お好みのスタイルで楽しんでください！\n"
     ]
    }
   ],
   "source": [
    "from langchain_core.output_parsers import StrOutputParser\n",
    "chain = prompt | model | StrOutputParser()\n",
    "output = chain.invoke({\"dish\": \"カレー\"})\n",
    "print(output)"
   ]
  }
 ],
 "metadata": {
  "kernelspec": {
   "display_name": "learn-rag-ai-agent-0iCzrxPH-py3.11",
   "language": "python",
   "name": "python3"
  },
  "language_info": {
   "codemirror_mode": {
    "name": "ipython",
    "version": 3
   },
   "file_extension": ".py",
   "mimetype": "text/x-python",
   "name": "python",
   "nbconvert_exporter": "python",
   "pygments_lexer": "ipython3",
   "version": "3.11.11"
  }
 },
 "nbformat": 4,
 "nbformat_minor": 2
}
