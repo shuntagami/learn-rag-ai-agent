{
 "cells": [
  {
   "cell_type": "markdown",
   "metadata": {},
   "source": [
    "要件定義フロー図\n",
    "\n",
    "```mermaid\n",
    "flowchart TD\n",
    "    Start([開始]) --> GeneratePersonas[generate_personas\\nペルソナを生成]\n",
    "    GeneratePersonas --> ConductInterviews[conduct_interviews\\n生成したペルソナにインタビュー]\n",
    "    ConductInterviews --> EvaluateInfo[evaluate_information\\nインタビュー結果を評価]\n",
    "    EvaluateInfo --> GenerateReq[generate_requirements\\n要件定義書を生成]\n",
    "    GenerateReq --> End([終了])\n",
    "    \n",
    "    EvaluateInfo -->|情報量が不十分な場合は\\n追加でペルソナを生成する| GeneratePersonas\n",
    "```"
   ]
  }
 ],
 "metadata": {
  "kernelspec": {
   "display_name": "learn-rag-ai-agent-0iCzrxPH-py3.11",
   "language": "python",
   "name": "python3"
  },
  "language_info": {
   "codemirror_mode": {
    "name": "ipython",
    "version": 3
   },
   "file_extension": ".py",
   "mimetype": "text/x-python",
   "name": "python",
   "nbconvert_exporter": "python",
   "pygments_lexer": "ipython3",
   "version": "3.11.11"
  }
 },
 "nbformat": 4,
 "nbformat_minor": 2
}
