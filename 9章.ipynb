{
 "cells": [
  {
   "cell_type": "code",
   "execution_count": 7,
   "metadata": {},
   "outputs": [
    {
     "data": {
      "text/plain": [
       "True"
      ]
     },
     "execution_count": 7,
     "metadata": {},
     "output_type": "execute_result"
    }
   ],
   "source": [
    "from dotenv import load_dotenv\n",
    "load_dotenv()"
   ]
  },
  {
   "cell_type": "code",
   "execution_count": 19,
   "metadata": {},
   "outputs": [],
   "source": [
    "ROLES = {\n",
    "    \"1\": {\n",
    "        \"name\": \"一般知識エキスパート\",\n",
    "        \"description\": \"幅広い分野の一般的な質問に答える\",\n",
    "        \"details\": \"幅広い分野の一般的な質問に対して、正確でわかりやすい回答を提供してください。\"\n",
    "    },\n",
    "    \"2\": {\n",
    "        \"name\": \"生成AI製品エキスパート\",\n",
    "        \"description\": \"生成AIや関連製品、技術に関する専門的な質問に答える\",\n",
    "        \"details\": \"生成AIや関連製品、技術に関する専門的な質問に対して、最新の情報と深い洞察を提供してください。\"\n",
    "    },\n",
    "    \"3\": {\n",
    "        \"name\": \"カウンセラー\",\n",
    "        \"description\": \"個人的な悩みや心理的な問題に対してサポートを提供する\",\n",
    "        \"details\": \"個人的な悩みや心理的な問題に対して、共感的で支援的な回答を提供し、可能であれば適切なアドバイスも行ってください。\"\n",
    "    }\n",
    "}"
   ]
  },
  {
   "cell_type": "code",
   "execution_count": 20,
   "metadata": {},
   "outputs": [],
   "source": [
    "import operator\n",
    "from typing import Annotated\n",
    "from langchain_core.pydantic_v1 import BaseModel, Field\n",
    "\n",
    "class State(BaseModel):\n",
    "   query: str = Field(\n",
    "       ..., description=\"ユーザーからの質問\"\n",
    "   )\n",
    "   current_role: str = Field(\n",
    "       default=\"\", description=\"選定された回答ロール\"\n",
    "   )\n",
    "   messages: Annotated[list[str], operator.add] = Field(\n",
    "       default=[], description=\"回答履歴\"\n",
    "   )\n",
    "   current_judge: bool = Field(\n",
    "       default=False, description=\"品質チェックの結果\"\n",
    "   )\n",
    "   judgement_reason: str = Field(\n",
    "       default=\"\", description=\"品質チェックの判定理由\"\n",
    "   )"
   ]
  },
  {
   "cell_type": "code",
   "execution_count": 8,
   "metadata": {},
   "outputs": [],
   "source": [
    "from langchain_openai import ChatOpenAI\n",
    "from langchain_core.runnables import ConfigurableField\n",
    "llm = ChatOpenAI(model=\"gpt-4o\", temperature=0.0)\n",
    "# 後からmax_tokensの値を変更できるように、変更可能なフィールドを宣言\n",
    "llm = llm.configurable_fields(max_tokens=ConfigurableField(id='max_tokens'))"
   ]
  },
  {
   "cell_type": "code",
   "execution_count": 9,
   "metadata": {},
   "outputs": [],
   "source": [
    "from typing import Any\n",
    "from langchain_core.prompts import ChatPromptTemplate\n",
    "from langchain_core.output_parsers import StrOutputParser\n",
    "\n",
    "def selection_node(state: State) -> dict[str, Any]:\n",
    "   query = state.query\n",
    "   role_options = \"\\n\".join([f\"{k}. {v['name']}: {v['description']}\" for k, v in ROLES.items()])\n",
    "\n",
    "   prompt = ChatPromptTemplate.from_template(\n",
    "       \"\"\"質問を分析し、最も適切な回答担当ロールを選択してください。\n",
    "選択肢:\n",
    "{role_options}\n",
    "回答は選択肢の番号（1、2、または3）のみを返してください。\n",
    "質問: {query}\n",
    "\"\"\".strip()\n",
    "   )\n",
    "\n",
    "   # 選択肢の番号のみを返すことを期待したいため、max_tokensの値を1に変更\n",
    "   chain = prompt | llm.with_config(configurable=dict(max_tokens=1)) | StrOutputParser()\n",
    "   role_number = chain.invoke({\"role_options\": role_options, \"query\": query})\n",
    "   selected_role = ROLES[role_number.strip()][\"name\"]\n",
    "\n",
    "   return {\"current_role\": selected_role}"
   ]
  },
  {
   "cell_type": "code",
   "execution_count": 10,
   "metadata": {},
   "outputs": [],
   "source": [
    "def answering_node(state: State) -> dict[str, Any]:\n",
    "   query = state.query\n",
    "   role = state.current_role\n",
    "   role_details = \"\\n\".join([f\"- {v['name']}: {v['details']}\" for v in ROLES.values()])\n",
    "\n",
    "   prompt = ChatPromptTemplate.from_template(\n",
    "       \"\"\"あなたは{role}として回答してください。以下の質問に対して、あなたの役割に基づいた適切な回答を提供してください。\n",
    "役割の詳細:\n",
    "{role_details}\n",
    "質問: {query}\n",
    "回答:\"\"\".strip()\n",
    "   )\n",
    "\n",
    "   chain = prompt | llm | StrOutputParser()\n",
    "   answer = chain.invoke({\"role\": role, \"role_details\": role_details, \"query\": query})\n",
    "\n",
    "   return {\"messages\": [answer]}"
   ]
  },
  {
   "cell_type": "code",
   "execution_count": 11,
   "metadata": {},
   "outputs": [],
   "source": [
    "class Judgement(BaseModel):\n",
    "   reason: str = Field(default=\"\", description=\"判定理由\")\n",
    "   judge: bool = Field(default=False, description=\"判定結果\")\n",
    "\n",
    "def check_node(state: State) -> dict[str, Any]:\n",
    "   query = state.query\n",
    "   answer = state.messages[-1]\n",
    "\n",
    "   prompt = ChatPromptTemplate.from_template(\n",
    "       \"\"\"以下の回答の品質をチェックし、問題がある場合は'False'、問題がない場合は'True'を回答してください。また、その判断理由も説明してください。\n",
    "ユーザーからの質問: {query}\n",
    "回答: {answer}\n",
    "\"\"\".strip()\n",
    "   )\n",
    "\n",
    "   chain = prompt | llm.with_structured_output(Judgement)\n",
    "   result: Judgement = chain.invoke({\"query\": query, \"answer\": answer})\n",
    "\n",
    "   return {\n",
    "       \"current_judge\": result.judge,\n",
    "       \"judgement_reason\": result.reason\n",
    "   }"
   ]
  },
  {
   "cell_type": "code",
   "execution_count": 12,
   "metadata": {},
   "outputs": [],
   "source": [
    "from langgraph.graph import StateGraph\n",
    "workflow = StateGraph(State)"
   ]
  },
  {
   "cell_type": "code",
   "execution_count": 13,
   "metadata": {},
   "outputs": [
    {
     "data": {
      "text/plain": [
       "<langgraph.graph.state.StateGraph at 0x107971590>"
      ]
     },
     "execution_count": 13,
     "metadata": {},
     "output_type": "execute_result"
    }
   ],
   "source": [
    "workflow.add_node(\"selection\", selection_node)\n",
    "workflow.add_node(\"answering\", answering_node)\n",
    "workflow.add_node(\"check\", check_node)"
   ]
  },
  {
   "cell_type": "code",
   "execution_count": 14,
   "metadata": {},
   "outputs": [
    {
     "data": {
      "text/plain": [
       "<langgraph.graph.state.StateGraph at 0x107971590>"
      ]
     },
     "execution_count": 14,
     "metadata": {},
     "output_type": "execute_result"
    }
   ],
   "source": [
    "# selectionノードから処理を開始\n",
    "workflow.set_entry_point(\"selection\")"
   ]
  },
  {
   "cell_type": "code",
   "execution_count": 15,
   "metadata": {},
   "outputs": [
    {
     "data": {
      "text/plain": [
       "<langgraph.graph.state.StateGraph at 0x107971590>"
      ]
     },
     "execution_count": 15,
     "metadata": {},
     "output_type": "execute_result"
    }
   ],
   "source": [
    "# selectionノードからansweringノードへ\n",
    "workflow.add_edge(\"selection\", \"answering\")\n",
    "# answeringノードからcheckノードへ\n",
    "workflow.add_edge(\"answering\", \"check\")"
   ]
  },
  {
   "cell_type": "code",
   "execution_count": 16,
   "metadata": {},
   "outputs": [
    {
     "data": {
      "text/plain": [
       "<langgraph.graph.state.StateGraph at 0x107971590>"
      ]
     },
     "execution_count": 16,
     "metadata": {},
     "output_type": "execute_result"
    }
   ],
   "source": [
    "from langgraph.graph import END\n",
    "\n",
    "# checkノードから次のノードへの遷移に条件付きエッジを定義\n",
    "# state.current_judgeの値がTrueならENDノードへ、Falseならselectionノードへ\n",
    "workflow.add_conditional_edges(\n",
    "   \"check\",\n",
    "   lambda state: state.current_judge,\n",
    "   {True: END, False: \"selection\"}\n",
    ")"
   ]
  },
  {
   "cell_type": "code",
   "execution_count": 17,
   "metadata": {},
   "outputs": [],
   "source": [
    "compiled = workflow.compile()"
   ]
  },
  {
   "cell_type": "code",
   "execution_count": null,
   "metadata": {},
   "outputs": [],
   "source": [
    "initial_state = State(query=\"生成AIについて教えてください\")\n",
    "result = compiled.invoke(initial_state)"
   ]
  },
  {
   "cell_type": "code",
   "execution_count": 24,
   "metadata": {},
   "outputs": [
    {
     "name": "stdout",
     "output_type": "stream",
     "text": [
      "生成AI製品エキスパートとしてお答えします。\n",
      "\n",
      "生成AIとは、人工知能技術の一分野であり、テキスト、画像、音声、動画などのコンテンツを生成する能力を持つモデルを指します。これらのモデルは、大量のデータを学習し、そのパターンを理解することで、新しいコンテンツを生成することができます。\n",
      "\n",
      "代表的な生成AIの技術には、以下のようなものがあります：\n",
      "\n",
      "1. **自然言語処理（NLP）モデル**: 例えば、GPT（Generative Pre-trained Transformer）シリーズは、テキストの生成や翻訳、要約などに利用されます。これらのモデルは、人間のように自然な文章を生成することが可能です。\n",
      "\n",
      "2. **画像生成モデル**: GAN（Generative Adversarial Networks）やVAE（Variational Autoencoders）などの技術を用いて、新しい画像を生成します。これにより、アート作品の創作や、写真の修正、合成が可能になります。\n",
      "\n",
      "3. **音声合成**: TTS（Text-to-Speech）技術を用いて、テキストから自然な音声を生成します。これにより、音声アシスタントやナレーションの自動生成が可能です。\n",
      "\n",
      "生成AIは、クリエイティブな分野やビジネスの自動化、教育、医療など、さまざまな分野で活用されています。しかし、倫理的な問題やデータの偏り、プライバシーの保護など、解決すべき課題も存在します。生成AIの進化は急速であり、今後も多くの可能性を秘めています。\n"
     ]
    }
   ],
   "source": [
    "print(result[\"messages\"][-1])"
   ]
  },
  {
   "cell_type": "code",
   "execution_count": 25,
   "metadata": {},
   "outputs": [
    {
     "data": {
      "image/png": "[encoded data removed]",
      "text/plain": [
       "<IPython.core.display.Image object>"
      ]
     },
     "execution_count": 25,
     "metadata": {},
     "output_type": "execute_result"
    }
   ],
   "source": [
    "from IPython.display import Image\n",
    "Image(compiled.get_graph().draw_png())"
   ]
  },
  {
   "cell_type": "code",
   "execution_count": 26,
   "metadata": {},
   "outputs": [],
   "source": [
    "import operator\n",
    "from typing import Annotated, Any\n",
    "from langchain_core.messages import SystemMessage, HumanMessage, BaseMessage\n",
    "from langchain_openai import ChatOpenAI\n",
    "from pydantic import BaseModel, Field\n",
    "\n",
    "# グラフのステートを定義\n",
    "class State(BaseModel):\n",
    "   query: str\n",
    "   messages: Annotated[list[BaseMessage], operator.add] = Field(default=[])\n",
    "\n",
    "# メッセージを追加するノード関数\n",
    "def add_message(state: State) -> dict[str, Any]:\n",
    "   additional_messages = []\n",
    "   if not state.messages:\n",
    "       additional_messages.append(\n",
    "           SystemMessage(content=\"あなたは最小限の応答をする対話エージェントです。\")\n",
    "       )\n",
    "   additional_messages.append(HumanMessage(content=state.query))\n",
    "   return {\"messages\": additional_messages}\n",
    "\n",
    "# LLMからの応答を追加するノード関数\n",
    "def llm_response(state: State) -> dict[str, Any]:\n",
    "   llm = ChatOpenAI(model=\"gpt-4o-mini\", temperature=0.5)\n",
    "   ai_message = llm.invoke(state.messages)\n",
    "   return {\"messages\": [ai_message]}"
   ]
  },
  {
   "cell_type": "code",
   "execution_count": 27,
   "metadata": {},
   "outputs": [],
   "source": [
    "from pprint import pprint\n",
    "from langchain_core.runnables import RunnableConfig\n",
    "from langgraph.checkpoint.base import BaseCheckpointSaver\n",
    "\n",
    "def print_checkpoint_dump(checkpointer: BaseCheckpointSaver, config: RunnableConfig):\n",
    "   checkpoint_tuple = checkpointer.get_tuple(config)\n",
    "   print(\"チェックポイントデータ:\")\n",
    "   pprint(checkpoint_tuple.checkpoint)\n",
    "   print(\"\\nメタデータ:\")\n",
    "   pprint(checkpoint_tuple.metadata)"
   ]
  },
  {
   "cell_type": "code",
   "execution_count": 28,
   "metadata": {},
   "outputs": [],
   "source": [
    "from langgraph.graph import StateGraph, END\n",
    "from langgraph.checkpoint.memory import MemorySaver\n",
    "# グラフを設定\n",
    "graph = StateGraph(State)\n",
    "graph.add_node(\"add_message\", add_message)\n",
    "graph.add_node(\"llm_response\", llm_response)\n",
    "graph.set_entry_point(\"add_message\")\n",
    "graph.add_edge(\"add_message\", \"llm_response\")\n",
    "graph.add_edge(\"llm_response\", END)\n",
    "# チェックポインターを設定\n",
    "checkpointer = MemorySaver()\n",
    "# グラフをコンパイル\n",
    "compiled_graph = graph.compile(checkpointer=checkpointer)"
   ]
  },
  {
   "cell_type": "code",
   "execution_count": 29,
   "metadata": {},
   "outputs": [
    {
     "data": {
      "text/plain": [
       "{'query': '私の好きなものはずんだ餅です。覚えておいてね。',\n",
       " 'messages': [SystemMessage(content='あなたは最小限の応答をする対話エージェントです。', additional_kwargs={}, response_metadata={}),\n",
       "  HumanMessage(content='私の好きなものはずんだ餅です。覚えておいてね。', additional_kwargs={}, response_metadata={}),\n",
       "  AIMessage(content='了解しました！ずんだ餅ですね。', additional_kwargs={'refusal': None}, response_metadata={'token_usage': {'completion_tokens': 11, 'prompt_tokens': 48, 'total_tokens': 59, 'completion_tokens_details': {'accepted_prediction_tokens': 0, 'audio_tokens': 0, 'reasoning_tokens': 0, 'rejected_prediction_tokens': 0}, 'prompt_tokens_details': {'audio_tokens': 0, 'cached_tokens': 0}}, 'model_name': 'gpt-4o-mini-2024-07-18', 'system_fingerprint': 'fp_b376dfbbd5', 'id': 'chatcmpl-BImSTlDj4AcdKHE0HmoMhfOFFk04D', 'finish_reason': 'stop', 'logprobs': None}, id='run-58682591-2866-477c-bb8f-338e4344c5ba-0', usage_metadata={'input_tokens': 48, 'output_tokens': 11, 'total_tokens': 59, 'input_token_details': {'audio': 0, 'cache_read': 0}, 'output_token_details': {'audio': 0, 'reasoning': 0}})]}"
      ]
     },
     "execution_count": 29,
     "metadata": {},
     "output_type": "execute_result"
    }
   ],
   "source": [
    "config = {\"configurable\": {\"thread_id\": \"example-1\"}}\n",
    "user_query = State(query=\"私の好きなものはずんだ餅です。覚えておいてね。\")\n",
    "first_response = compiled_graph.invoke(user_query, config)\n",
    "first_response"
   ]
  },
  {
   "cell_type": "code",
   "execution_count": 30,
   "metadata": {},
   "outputs": [
    {
     "name": "stdout",
     "output_type": "stream",
     "text": [
      "CheckpointTuple(config={'configurable': {'thread_id': 'example-1', 'checkpoint_ns': '', 'checkpoint_id': '1f011bbc-ef44-6c04-8002-89d5d5699703'}}, checkpoint={'v': 3, 'ts': '2025-04-05T01:17:57.715861+00:00', 'id': '1f011bbc-ef44-6c04-8002-89d5d5699703', 'channel_versions': {'__start__': '00000000000000000000000000000002.0.05803536958012234', 'query': '00000000000000000000000000000002.0.06744840091760773', 'messages': '00000000000000000000000000000004.0.12666826683544463', 'branch:to:add_message': '00000000000000000000000000000003.0.9203961101897897', 'branch:to:llm_response': '00000000000000000000000000000004.0.19121666954059957'}, 'versions_seen': {'__input__': {}, '__start__': {'__start__': '00000000000000000000000000000001.0.5384767953337886'}, 'add_message': {'branch:to:add_message': '00000000000000000000000000000002.0.6558269153107993'}, 'llm_response': {'branch:to:llm_response': '00000000000000000000000000000003.0.46297692010916713'}}, 'channel_values': {'query': '私の好きなものはずんだ餅です。覚えておいてね。', 'messages': [SystemMessage(content='あなたは最小限の応答をする対話エージェントです。', additional_kwargs={}, response_metadata={}), HumanMessage(content='私の好きなものはずんだ餅です。覚えておいてね。', additional_kwargs={}, response_metadata={}), AIMessage(content='了解しました！ずんだ餅ですね。', additional_kwargs={'refusal': None}, response_metadata={'token_usage': {'completion_tokens': 11, 'prompt_tokens': 48, 'total_tokens': 59, 'completion_tokens_details': {'accepted_prediction_tokens': 0, 'audio_tokens': 0, 'reasoning_tokens': 0, 'rejected_prediction_tokens': 0}, 'prompt_tokens_details': {'audio_tokens': 0, 'cached_tokens': 0}}, 'model_name': 'gpt-4o-mini-2024-07-18', 'system_fingerprint': 'fp_b376dfbbd5', 'id': 'chatcmpl-BImSTlDj4AcdKHE0HmoMhfOFFk04D', 'finish_reason': 'stop', 'logprobs': None}, id='run-58682591-2866-477c-bb8f-338e4344c5ba-0', usage_metadata={'input_tokens': 48, 'output_tokens': 11, 'total_tokens': 59, 'input_token_details': {'audio': 0, 'cache_read': 0}, 'output_token_details': {'audio': 0, 'reasoning': 0}})]}, 'pending_sends': []}, metadata={'source': 'loop', 'writes': {'llm_response': {'messages': [AIMessage(content='了解しました！ずんだ餅ですね。', additional_kwargs={'refusal': None}, response_metadata={'token_usage': {'completion_tokens': 11, 'prompt_tokens': 48, 'total_tokens': 59, 'completion_tokens_details': {'accepted_prediction_tokens': 0, 'audio_tokens': 0, 'reasoning_tokens': 0, 'rejected_prediction_tokens': 0}, 'prompt_tokens_details': {'audio_tokens': 0, 'cached_tokens': 0}}, 'model_name': 'gpt-4o-mini-2024-07-18', 'system_fingerprint': 'fp_b376dfbbd5', 'id': 'chatcmpl-BImSTlDj4AcdKHE0HmoMhfOFFk04D', 'finish_reason': 'stop', 'logprobs': None}, id='run-58682591-2866-477c-bb8f-338e4344c5ba-0', usage_metadata={'input_tokens': 48, 'output_tokens': 11, 'total_tokens': 59, 'input_token_details': {'audio': 0, 'cache_read': 0}, 'output_token_details': {'audio': 0, 'reasoning': 0}})]}}, 'step': 2, 'parents': {}, 'thread_id': 'example-1'}, parent_config={'configurable': {'thread_id': 'example-1', 'checkpoint_ns': '', 'checkpoint_id': '1f011bbc-e6df-6f00-8001-3001bec1c09b'}}, pending_writes=[])\n",
      "CheckpointTuple(config={'configurable': {'thread_id': 'example-1', 'checkpoint_ns': '', 'checkpoint_id': '1f011bbc-e6df-6f00-8001-3001bec1c09b'}}, checkpoint={'v': 3, 'ts': '2025-04-05T01:17:56.835708+00:00', 'id': '1f011bbc-e6df-6f00-8001-3001bec1c09b', 'channel_versions': {'__start__': '00000000000000000000000000000002.0.05803536958012234', 'query': '00000000000000000000000000000002.0.06744840091760773', 'messages': '00000000000000000000000000000003.0.8610013686209046', 'branch:to:add_message': '00000000000000000000000000000003.0.9203961101897897', 'branch:to:llm_response': '00000000000000000000000000000003.0.46297692010916713'}, 'versions_seen': {'__input__': {}, '__start__': {'__start__': '00000000000000000000000000000001.0.5384767953337886'}, 'add_message': {'branch:to:add_message': '00000000000000000000000000000002.0.6558269153107993'}}, 'channel_values': {'query': '私の好きなものはずんだ餅です。覚えておいてね。', 'messages': [SystemMessage(content='あなたは最小限の応答をする対話エージェントです。', additional_kwargs={}, response_metadata={}), HumanMessage(content='私の好きなものはずんだ餅です。覚えておいてね。', additional_kwargs={}, response_metadata={})], 'branch:to:llm_response': None}, 'pending_sends': []}, metadata={'source': 'loop', 'writes': {'add_message': {'messages': [SystemMessage(content='あなたは最小限の応答をする対話エージェントです。', additional_kwargs={}, response_metadata={}), HumanMessage(content='私の好きなものはずんだ餅です。覚えておいてね。', additional_kwargs={}, response_metadata={})]}}, 'step': 1, 'parents': {}, 'thread_id': 'example-1'}, parent_config={'configurable': {'thread_id': 'example-1', 'checkpoint_ns': '', 'checkpoint_id': '1f011bbc-e6dc-6300-8000-4c07d2cef56b'}}, pending_writes=[('8993a52c-9b2e-6960-e4e8-4aa6b70e9a39', 'messages', [AIMessage(content='了解しました！ずんだ餅ですね。', additional_kwargs={'refusal': None}, response_metadata={'token_usage': {'completion_tokens': 11, 'prompt_tokens': 48, 'total_tokens': 59, 'completion_tokens_details': {'accepted_prediction_tokens': 0, 'audio_tokens': 0, 'reasoning_tokens': 0, 'rejected_prediction_tokens': 0}, 'prompt_tokens_details': {'audio_tokens': 0, 'cached_tokens': 0}}, 'model_name': 'gpt-4o-mini-2024-07-18', 'system_fingerprint': 'fp_b376dfbbd5', 'id': 'chatcmpl-BImSTlDj4AcdKHE0HmoMhfOFFk04D', 'finish_reason': 'stop', 'logprobs': None}, id='run-58682591-2866-477c-bb8f-338e4344c5ba-0', usage_metadata={'input_tokens': 48, 'output_tokens': 11, 'total_tokens': 59, 'input_token_details': {'audio': 0, 'cache_read': 0}, 'output_token_details': {'audio': 0, 'reasoning': 0}})])])\n",
      "CheckpointTuple(config={'configurable': {'thread_id': 'example-1', 'checkpoint_ns': '', 'checkpoint_id': '1f011bbc-e6dc-6300-8000-4c07d2cef56b'}}, checkpoint={'v': 3, 'ts': '2025-04-05T01:17:56.834168+00:00', 'id': '1f011bbc-e6dc-6300-8000-4c07d2cef56b', 'channel_versions': {'__start__': '00000000000000000000000000000002.0.05803536958012234', 'query': '00000000000000000000000000000002.0.06744840091760773', 'messages': '00000000000000000000000000000002.0.8109854128672416', 'branch:to:add_message': '00000000000000000000000000000002.0.6558269153107993'}, 'versions_seen': {'__input__': {}, '__start__': {'__start__': '00000000000000000000000000000001.0.5384767953337886'}}, 'channel_values': {'query': '私の好きなものはずんだ餅です。覚えておいてね。', 'messages': [], 'branch:to:add_message': None}, 'pending_sends': []}, metadata={'source': 'loop', 'writes': None, 'step': 0, 'parents': {}, 'thread_id': 'example-1'}, parent_config={'configurable': {'thread_id': 'example-1', 'checkpoint_ns': '', 'checkpoint_id': '1f011bbc-e6d4-6cea-bfff-db0996e93a01'}}, pending_writes=[('cf5d3344-d2f9-b170-38b9-0ee5a626c76d', 'messages', [SystemMessage(content='あなたは最小限の応答をする対話エージェントです。', additional_kwargs={}, response_metadata={}), HumanMessage(content='私の好きなものはずんだ餅です。覚えておいてね。', additional_kwargs={}, response_metadata={})]), ('cf5d3344-d2f9-b170-38b9-0ee5a626c76d', 'branch:to:llm_response', None)])\n",
      "CheckpointTuple(config={'configurable': {'thread_id': 'example-1', 'checkpoint_ns': '', 'checkpoint_id': '1f011bbc-e6d4-6cea-bfff-db0996e93a01'}}, checkpoint={'v': 3, 'ts': '2025-04-05T01:17:56.831147+00:00', 'id': '1f011bbc-e6d4-6cea-bfff-db0996e93a01', 'channel_versions': {'__start__': '00000000000000000000000000000001.0.5384767953337886'}, 'versions_seen': {'__input__': {}}, 'channel_values': {'__start__': State(query='私の好きなものはずんだ餅です。覚えておいてね。', messages=[])}, 'pending_sends': []}, metadata={'source': 'input', 'writes': {'__start__': State(query='私の好きなものはずんだ餅です。覚えておいてね。', messages=[])}, 'step': -1, 'parents': {}, 'thread_id': 'example-1'}, parent_config=None, pending_writes=[('e8d8c036-f159-a9d4-98a8-8333926f83d3', 'query', '私の好きなものはずんだ餅です。覚えておいてね。'), ('e8d8c036-f159-a9d4-98a8-8333926f83d3', 'messages', []), ('e8d8c036-f159-a9d4-98a8-8333926f83d3', 'branch:to:add_message', None)])\n"
     ]
    }
   ],
   "source": [
    "for checkpoint in checkpointer.list(config):\n",
    "    print(checkpoint)"
   ]
  },
  {
   "cell_type": "code",
   "execution_count": 31,
   "metadata": {},
   "outputs": [
    {
     "name": "stdout",
     "output_type": "stream",
     "text": [
      "チェックポイントデータ:\n",
      "{'channel_values': {'messages': [SystemMessage(content='あなたは最小限の応答をする対話エージェントです。', additional_kwargs={}, response_metadata={}),\n",
      "                                 HumanMessage(content='私の好きなものはずんだ餅です。覚えておいてね。', additional_kwargs={}, response_metadata={}),\n",
      "                                 AIMessage(content='了解しました！ずんだ餅ですね。', additional_kwargs={'refusal': None}, response_metadata={'token_usage': {'completion_tokens': 11, 'prompt_tokens': 48, 'total_tokens': 59, 'completion_tokens_details': {'accepted_prediction_tokens': 0, 'audio_tokens': 0, 'reasoning_tokens': 0, 'rejected_prediction_tokens': 0}, 'prompt_tokens_details': {'audio_tokens': 0, 'cached_tokens': 0}}, 'model_name': 'gpt-4o-mini-2024-07-18', 'system_fingerprint': 'fp_b376dfbbd5', 'id': 'chatcmpl-BImSTlDj4AcdKHE0HmoMhfOFFk04D', 'finish_reason': 'stop', 'logprobs': None}, id='run-58682591-2866-477c-bb8f-338e4344c5ba-0', usage_metadata={'input_tokens': 48, 'output_tokens': 11, 'total_tokens': 59, 'input_token_details': {'audio': 0, 'cache_read': 0}, 'output_token_details': {'audio': 0, 'reasoning': 0}})],\n",
      "                    'query': '私の好きなものはずんだ餅です。覚えておいてね。'},\n",
      " 'channel_versions': {'__start__': '00000000000000000000000000000002.0.05803536958012234',\n",
      "                      'branch:to:add_message': '00000000000000000000000000000003.0.9203961101897897',\n",
      "                      'branch:to:llm_response': '00000000000000000000000000000004.0.19121666954059957',\n",
      "                      'messages': '00000000000000000000000000000004.0.12666826683544463',\n",
      "                      'query': '00000000000000000000000000000002.0.06744840091760773'},\n",
      " 'id': '1f011bbc-ef44-6c04-8002-89d5d5699703',\n",
      " 'pending_sends': [],\n",
      " 'ts': '2025-04-05T01:17:57.715861+00:00',\n",
      " 'v': 3,\n",
      " 'versions_seen': {'__input__': {},\n",
      "                   '__start__': {'__start__': '00000000000000000000000000000001.0.5384767953337886'},\n",
      "                   'add_message': {'branch:to:add_message': '00000000000000000000000000000002.0.6558269153107993'},\n",
      "                   'llm_response': {'branch:to:llm_response': '00000000000000000000000000000003.0.46297692010916713'}}}\n",
      "\n",
      "メタデータ:\n",
      "{'parents': {},\n",
      " 'source': 'loop',\n",
      " 'step': 2,\n",
      " 'thread_id': 'example-1',\n",
      " 'writes': {'llm_response': {'messages': [AIMessage(content='了解しました！ずんだ餅ですね。', additional_kwargs={'refusal': None}, response_metadata={'token_usage': {'completion_tokens': 11, 'prompt_tokens': 48, 'total_tokens': 59, 'completion_tokens_details': {'accepted_prediction_tokens': 0, 'audio_tokens': 0, 'reasoning_tokens': 0, 'rejected_prediction_tokens': 0}, 'prompt_tokens_details': {'audio_tokens': 0, 'cached_tokens': 0}}, 'model_name': 'gpt-4o-mini-2024-07-18', 'system_fingerprint': 'fp_b376dfbbd5', 'id': 'chatcmpl-BImSTlDj4AcdKHE0HmoMhfOFFk04D', 'finish_reason': 'stop', 'logprobs': None}, id='run-58682591-2866-477c-bb8f-338e4344c5ba-0', usage_metadata={'input_tokens': 48, 'output_tokens': 11, 'total_tokens': 59, 'input_token_details': {'audio': 0, 'cache_read': 0}, 'output_token_details': {'audio': 0, 'reasoning': 0}})]}}}\n"
     ]
    }
   ],
   "source": [
    "print_checkpoint_dump(checkpointer, config)"
   ]
  },
  {
   "cell_type": "code",
   "execution_count": 32,
   "metadata": {},
   "outputs": [
    {
     "data": {
      "text/plain": [
       "{'query': '私の好物は何か覚えてる？',\n",
       " 'messages': [SystemMessage(content='あなたは最小限の応答をする対話エージェントです。', additional_kwargs={}, response_metadata={}),\n",
       "  HumanMessage(content='私の好きなものはずんだ餅です。覚えておいてね。', additional_kwargs={}, response_metadata={}),\n",
       "  AIMessage(content='了解しました！ずんだ餅ですね。', additional_kwargs={'refusal': None}, response_metadata={'token_usage': {'completion_tokens': 11, 'prompt_tokens': 48, 'total_tokens': 59, 'completion_tokens_details': {'accepted_prediction_tokens': 0, 'audio_tokens': 0, 'reasoning_tokens': 0, 'rejected_prediction_tokens': 0}, 'prompt_tokens_details': {'audio_tokens': 0, 'cached_tokens': 0}}, 'model_name': 'gpt-4o-mini-2024-07-18', 'system_fingerprint': 'fp_b376dfbbd5', 'id': 'chatcmpl-BImSTlDj4AcdKHE0HmoMhfOFFk04D', 'finish_reason': 'stop', 'logprobs': None}, id='run-58682591-2866-477c-bb8f-338e4344c5ba-0', usage_metadata={'input_tokens': 48, 'output_tokens': 11, 'total_tokens': 59, 'input_token_details': {'audio': 0, 'cache_read': 0}, 'output_token_details': {'audio': 0, 'reasoning': 0}}),\n",
       "  HumanMessage(content='私の好物は何か覚えてる？', additional_kwargs={}, response_metadata={}),\n",
       "  AIMessage(content='はい、ずんだ餅です。', additional_kwargs={'refusal': None}, response_metadata={'token_usage': {'completion_tokens': 10, 'prompt_tokens': 77, 'total_tokens': 87, 'completion_tokens_details': {'accepted_prediction_tokens': 0, 'audio_tokens': 0, 'reasoning_tokens': 0, 'rejected_prediction_tokens': 0}, 'prompt_tokens_details': {'audio_tokens': 0, 'cached_tokens': 0}}, 'model_name': 'gpt-4o-mini-2024-07-18', 'system_fingerprint': 'fp_b376dfbbd5', 'id': 'chatcmpl-BImVH3eVJ0cun7VpSM7nVsdwn9VSZ', 'finish_reason': 'stop', 'logprobs': None}, id='run-af54e490-befc-461f-8d3d-c184536d6b1c-0', usage_metadata={'input_tokens': 77, 'output_tokens': 10, 'total_tokens': 87, 'input_token_details': {'audio': 0, 'cache_read': 0}, 'output_token_details': {'audio': 0, 'reasoning': 0}})]}"
      ]
     },
     "execution_count": 32,
     "metadata": {},
     "output_type": "execute_result"
    }
   ],
   "source": [
    "user_query = State(query=\"私の好物は何か覚えてる？\")\n",
    "second_response = compiled_graph.invoke(user_query, config)\n",
    "second_response"
   ]
  },
  {
   "cell_type": "code",
   "execution_count": 33,
   "metadata": {},
   "outputs": [
    {
     "name": "stdout",
     "output_type": "stream",
     "text": [
      "CheckpointTuple(config={'configurable': {'thread_id': 'example-1', 'checkpoint_ns': '', 'checkpoint_id': '1f011bc3-7089-66ba-8006-a831454ba821'}}, checkpoint={'v': 3, 'ts': '2025-04-05T01:20:52.331893+00:00', 'id': '1f011bc3-7089-66ba-8006-a831454ba821', 'channel_versions': {'__start__': '00000000000000000000000000000006.0.5405201019125592', 'query': '00000000000000000000000000000006.0.13304030652047671', 'messages': '00000000000000000000000000000008.0.7108345238079449', 'branch:to:add_message': '00000000000000000000000000000007.0.29702691141183224', 'branch:to:llm_response': '00000000000000000000000000000008.0.8763074345496498'}, 'versions_seen': {'__input__': {}, '__start__': {'__start__': '00000000000000000000000000000005.0.019754355684266867'}, 'add_message': {'branch:to:add_message': '00000000000000000000000000000006.0.5777555987333399'}, 'llm_response': {'branch:to:llm_response': '00000000000000000000000000000007.0.11111927882377459'}}, 'channel_values': {'query': '私の好物は何か覚えてる？', 'messages': [SystemMessage(content='あなたは最小限の応答をする対話エージェントです。', additional_kwargs={}, response_metadata={}), HumanMessage(content='私の好きなものはずんだ餅です。覚えておいてね。', additional_kwargs={}, response_metadata={}), AIMessage(content='了解しました！ずんだ餅ですね。', additional_kwargs={'refusal': None}, response_metadata={'token_usage': {'completion_tokens': 11, 'prompt_tokens': 48, 'total_tokens': 59, 'completion_tokens_details': {'accepted_prediction_tokens': 0, 'audio_tokens': 0, 'reasoning_tokens': 0, 'rejected_prediction_tokens': 0}, 'prompt_tokens_details': {'audio_tokens': 0, 'cached_tokens': 0}}, 'model_name': 'gpt-4o-mini-2024-07-18', 'system_fingerprint': 'fp_b376dfbbd5', 'id': 'chatcmpl-BImSTlDj4AcdKHE0HmoMhfOFFk04D', 'finish_reason': 'stop', 'logprobs': None}, id='run-58682591-2866-477c-bb8f-338e4344c5ba-0', usage_metadata={'input_tokens': 48, 'output_tokens': 11, 'total_tokens': 59, 'input_token_details': {'audio': 0, 'cache_read': 0}, 'output_token_details': {'audio': 0, 'reasoning': 0}}), HumanMessage(content='私の好物は何か覚えてる？', additional_kwargs={}, response_metadata={}), AIMessage(content='はい、ずんだ餅です。', additional_kwargs={'refusal': None}, response_metadata={'token_usage': {'completion_tokens': 10, 'prompt_tokens': 77, 'total_tokens': 87, 'completion_tokens_details': {'accepted_prediction_tokens': 0, 'audio_tokens': 0, 'reasoning_tokens': 0, 'rejected_prediction_tokens': 0}, 'prompt_tokens_details': {'audio_tokens': 0, 'cached_tokens': 0}}, 'model_name': 'gpt-4o-mini-2024-07-18', 'system_fingerprint': 'fp_b376dfbbd5', 'id': 'chatcmpl-BImVH3eVJ0cun7VpSM7nVsdwn9VSZ', 'finish_reason': 'stop', 'logprobs': None}, id='run-af54e490-befc-461f-8d3d-c184536d6b1c-0', usage_metadata={'input_tokens': 77, 'output_tokens': 10, 'total_tokens': 87, 'input_token_details': {'audio': 0, 'cache_read': 0}, 'output_token_details': {'audio': 0, 'reasoning': 0}})]}, 'pending_sends': []}, metadata={'source': 'loop', 'writes': {'llm_response': {'messages': [AIMessage(content='はい、ずんだ餅です。', additional_kwargs={'refusal': None}, response_metadata={'token_usage': {'completion_tokens': 10, 'prompt_tokens': 77, 'total_tokens': 87, 'completion_tokens_details': {'accepted_prediction_tokens': 0, 'audio_tokens': 0, 'reasoning_tokens': 0, 'rejected_prediction_tokens': 0}, 'prompt_tokens_details': {'audio_tokens': 0, 'cached_tokens': 0}}, 'model_name': 'gpt-4o-mini-2024-07-18', 'system_fingerprint': 'fp_b376dfbbd5', 'id': 'chatcmpl-BImVH3eVJ0cun7VpSM7nVsdwn9VSZ', 'finish_reason': 'stop', 'logprobs': None}, id='run-af54e490-befc-461f-8d3d-c184536d6b1c-0', usage_metadata={'input_tokens': 77, 'output_tokens': 10, 'total_tokens': 87, 'input_token_details': {'audio': 0, 'cache_read': 0}, 'output_token_details': {'audio': 0, 'reasoning': 0}})]}}, 'step': 6, 'parents': {}, 'thread_id': 'example-1'}, parent_config={'configurable': {'thread_id': 'example-1', 'checkpoint_ns': '', 'checkpoint_id': '1f011bc3-68be-6246-8005-3fef3dd5f97b'}}, pending_writes=[])\n",
      "CheckpointTuple(config={'configurable': {'thread_id': 'example-1', 'checkpoint_ns': '', 'checkpoint_id': '1f011bc3-68be-6246-8005-3fef3dd5f97b'}}, checkpoint={'v': 3, 'ts': '2025-04-05T01:20:51.514627+00:00', 'id': '1f011bc3-68be-6246-8005-3fef3dd5f97b', 'channel_versions': {'__start__': '00000000000000000000000000000006.0.5405201019125592', 'query': '00000000000000000000000000000006.0.13304030652047671', 'messages': '00000000000000000000000000000007.0.703892288175601', 'branch:to:add_message': '00000000000000000000000000000007.0.29702691141183224', 'branch:to:llm_response': '00000000000000000000000000000007.0.11111927882377459'}, 'versions_seen': {'__input__': {}, '__start__': {'__start__': '00000000000000000000000000000005.0.019754355684266867'}, 'add_message': {'branch:to:add_message': '00000000000000000000000000000006.0.5777555987333399'}, 'llm_response': {'branch:to:llm_response': '00000000000000000000000000000003.0.46297692010916713'}}, 'channel_values': {'query': '私の好物は何か覚えてる？', 'messages': [SystemMessage(content='あなたは最小限の応答をする対話エージェントです。', additional_kwargs={}, response_metadata={}), HumanMessage(content='私の好きなものはずんだ餅です。覚えておいてね。', additional_kwargs={}, response_metadata={}), AIMessage(content='了解しました！ずんだ餅ですね。', additional_kwargs={'refusal': None}, response_metadata={'token_usage': {'completion_tokens': 11, 'prompt_tokens': 48, 'total_tokens': 59, 'completion_tokens_details': {'accepted_prediction_tokens': 0, 'audio_tokens': 0, 'reasoning_tokens': 0, 'rejected_prediction_tokens': 0}, 'prompt_tokens_details': {'audio_tokens': 0, 'cached_tokens': 0}}, 'model_name': 'gpt-4o-mini-2024-07-18', 'system_fingerprint': 'fp_b376dfbbd5', 'id': 'chatcmpl-BImSTlDj4AcdKHE0HmoMhfOFFk04D', 'finish_reason': 'stop', 'logprobs': None}, id='run-58682591-2866-477c-bb8f-338e4344c5ba-0', usage_metadata={'input_tokens': 48, 'output_tokens': 11, 'total_tokens': 59, 'input_token_details': {'audio': 0, 'cache_read': 0}, 'output_token_details': {'audio': 0, 'reasoning': 0}}), HumanMessage(content='私の好物は何か覚えてる？', additional_kwargs={}, response_metadata={})], 'branch:to:llm_response': None}, 'pending_sends': []}, metadata={'source': 'loop', 'writes': {'add_message': {'messages': [HumanMessage(content='私の好物は何か覚えてる？', additional_kwargs={}, response_metadata={})]}}, 'step': 5, 'parents': {}, 'thread_id': 'example-1'}, parent_config={'configurable': {'thread_id': 'example-1', 'checkpoint_ns': '', 'checkpoint_id': '1f011bc3-68bb-61b8-8004-d742ef1de6a6'}}, pending_writes=[('24a4593b-bed5-e2d7-f7a0-0f91b9e0cf2c', 'messages', [AIMessage(content='はい、ずんだ餅です。', additional_kwargs={'refusal': None}, response_metadata={'token_usage': {'completion_tokens': 10, 'prompt_tokens': 77, 'total_tokens': 87, 'completion_tokens_details': {'accepted_prediction_tokens': 0, 'audio_tokens': 0, 'reasoning_tokens': 0, 'rejected_prediction_tokens': 0}, 'prompt_tokens_details': {'audio_tokens': 0, 'cached_tokens': 0}}, 'model_name': 'gpt-4o-mini-2024-07-18', 'system_fingerprint': 'fp_b376dfbbd5', 'id': 'chatcmpl-BImVH3eVJ0cun7VpSM7nVsdwn9VSZ', 'finish_reason': 'stop', 'logprobs': None}, id='run-af54e490-befc-461f-8d3d-c184536d6b1c-0', usage_metadata={'input_tokens': 77, 'output_tokens': 10, 'total_tokens': 87, 'input_token_details': {'audio': 0, 'cache_read': 0}, 'output_token_details': {'audio': 0, 'reasoning': 0}})])])\n",
      "CheckpointTuple(config={'configurable': {'thread_id': 'example-1', 'checkpoint_ns': '', 'checkpoint_id': '1f011bc3-68bb-61b8-8004-d742ef1de6a6'}}, checkpoint={'v': 3, 'ts': '2025-04-05T01:20:51.513380+00:00', 'id': '1f011bc3-68bb-61b8-8004-d742ef1de6a6', 'channel_versions': {'__start__': '00000000000000000000000000000006.0.5405201019125592', 'query': '00000000000000000000000000000006.0.13304030652047671', 'messages': '00000000000000000000000000000006.0.9399830426838323', 'branch:to:add_message': '00000000000000000000000000000006.0.5777555987333399', 'branch:to:llm_response': '00000000000000000000000000000004.0.19121666954059957'}, 'versions_seen': {'__input__': {}, '__start__': {'__start__': '00000000000000000000000000000005.0.019754355684266867'}, 'add_message': {'branch:to:add_message': '00000000000000000000000000000002.0.6558269153107993'}, 'llm_response': {'branch:to:llm_response': '00000000000000000000000000000003.0.46297692010916713'}}, 'channel_values': {'query': '私の好物は何か覚えてる？', 'messages': [SystemMessage(content='あなたは最小限の応答をする対話エージェントです。', additional_kwargs={}, response_metadata={}), HumanMessage(content='私の好きなものはずんだ餅です。覚えておいてね。', additional_kwargs={}, response_metadata={}), AIMessage(content='了解しました！ずんだ餅ですね。', additional_kwargs={'refusal': None}, response_metadata={'token_usage': {'completion_tokens': 11, 'prompt_tokens': 48, 'total_tokens': 59, 'completion_tokens_details': {'accepted_prediction_tokens': 0, 'audio_tokens': 0, 'reasoning_tokens': 0, 'rejected_prediction_tokens': 0}, 'prompt_tokens_details': {'audio_tokens': 0, 'cached_tokens': 0}}, 'model_name': 'gpt-4o-mini-2024-07-18', 'system_fingerprint': 'fp_b376dfbbd5', 'id': 'chatcmpl-BImSTlDj4AcdKHE0HmoMhfOFFk04D', 'finish_reason': 'stop', 'logprobs': None}, id='run-58682591-2866-477c-bb8f-338e4344c5ba-0', usage_metadata={'input_tokens': 48, 'output_tokens': 11, 'total_tokens': 59, 'input_token_details': {'audio': 0, 'cache_read': 0}, 'output_token_details': {'audio': 0, 'reasoning': 0}})], 'branch:to:add_message': None}, 'pending_sends': []}, metadata={'source': 'loop', 'writes': None, 'step': 4, 'parents': {}, 'thread_id': 'example-1'}, parent_config={'configurable': {'thread_id': 'example-1', 'checkpoint_ns': '', 'checkpoint_id': '1f011bc3-68b5-6164-8003-d4fb0d06ec1c'}}, pending_writes=[('8f62785b-37e3-6963-e27e-59f9afd3076a', 'messages', [HumanMessage(content='私の好物は何か覚えてる？', additional_kwargs={}, response_metadata={})]), ('8f62785b-37e3-6963-e27e-59f9afd3076a', 'branch:to:llm_response', None)])\n",
      "CheckpointTuple(config={'configurable': {'thread_id': 'example-1', 'checkpoint_ns': '', 'checkpoint_id': '1f011bc3-68b5-6164-8003-d4fb0d06ec1c'}}, checkpoint={'v': 3, 'ts': '2025-04-05T01:20:51.510913+00:00', 'id': '1f011bc3-68b5-6164-8003-d4fb0d06ec1c', 'channel_versions': {'__start__': '00000000000000000000000000000005.0.019754355684266867', 'query': '00000000000000000000000000000002.0.06744840091760773', 'messages': '00000000000000000000000000000004.0.12666826683544463', 'branch:to:add_message': '00000000000000000000000000000003.0.9203961101897897', 'branch:to:llm_response': '00000000000000000000000000000004.0.19121666954059957'}, 'versions_seen': {'__input__': {}, '__start__': {'__start__': '00000000000000000000000000000001.0.5384767953337886'}, 'add_message': {'branch:to:add_message': '00000000000000000000000000000002.0.6558269153107993'}, 'llm_response': {'branch:to:llm_response': '00000000000000000000000000000003.0.46297692010916713'}}, 'channel_values': {'__start__': State(query='私の好物は何か覚えてる？', messages=[]), 'query': '私の好きなものはずんだ餅です。覚えておいてね。', 'messages': [SystemMessage(content='あなたは最小限の応答をする対話エージェントです。', additional_kwargs={}, response_metadata={}), HumanMessage(content='私の好きなものはずんだ餅です。覚えておいてね。', additional_kwargs={}, response_metadata={}), AIMessage(content='了解しました！ずんだ餅ですね。', additional_kwargs={'refusal': None}, response_metadata={'token_usage': {'completion_tokens': 11, 'prompt_tokens': 48, 'total_tokens': 59, 'completion_tokens_details': {'accepted_prediction_tokens': 0, 'audio_tokens': 0, 'reasoning_tokens': 0, 'rejected_prediction_tokens': 0}, 'prompt_tokens_details': {'audio_tokens': 0, 'cached_tokens': 0}}, 'model_name': 'gpt-4o-mini-2024-07-18', 'system_fingerprint': 'fp_b376dfbbd5', 'id': 'chatcmpl-BImSTlDj4AcdKHE0HmoMhfOFFk04D', 'finish_reason': 'stop', 'logprobs': None}, id='run-58682591-2866-477c-bb8f-338e4344c5ba-0', usage_metadata={'input_tokens': 48, 'output_tokens': 11, 'total_tokens': 59, 'input_token_details': {'audio': 0, 'cache_read': 0}, 'output_token_details': {'audio': 0, 'reasoning': 0}})]}, 'pending_sends': []}, metadata={'source': 'input', 'writes': {'__start__': State(query='私の好物は何か覚えてる？', messages=[])}, 'step': 3, 'parents': {}, 'thread_id': 'example-1'}, parent_config={'configurable': {'thread_id': 'example-1', 'checkpoint_ns': '', 'checkpoint_id': '1f011bbc-ef44-6c04-8002-89d5d5699703'}}, pending_writes=[('895820ee-ce0a-5b72-5813-d265e02bc854', 'query', '私の好物は何か覚えてる？'), ('895820ee-ce0a-5b72-5813-d265e02bc854', 'messages', []), ('895820ee-ce0a-5b72-5813-d265e02bc854', 'branch:to:add_message', None)])\n",
      "CheckpointTuple(config={'configurable': {'thread_id': 'example-1', 'checkpoint_ns': '', 'checkpoint_id': '1f011bbc-ef44-6c04-8002-89d5d5699703'}}, checkpoint={'v': 3, 'ts': '2025-04-05T01:17:57.715861+00:00', 'id': '1f011bbc-ef44-6c04-8002-89d5d5699703', 'channel_versions': {'__start__': '00000000000000000000000000000002.0.05803536958012234', 'query': '00000000000000000000000000000002.0.06744840091760773', 'messages': '00000000000000000000000000000004.0.12666826683544463', 'branch:to:add_message': '00000000000000000000000000000003.0.9203961101897897', 'branch:to:llm_response': '00000000000000000000000000000004.0.19121666954059957'}, 'versions_seen': {'__input__': {}, '__start__': {'__start__': '00000000000000000000000000000001.0.5384767953337886'}, 'add_message': {'branch:to:add_message': '00000000000000000000000000000002.0.6558269153107993'}, 'llm_response': {'branch:to:llm_response': '00000000000000000000000000000003.0.46297692010916713'}}, 'channel_values': {'query': '私の好きなものはずんだ餅です。覚えておいてね。', 'messages': [SystemMessage(content='あなたは最小限の応答をする対話エージェントです。', additional_kwargs={}, response_metadata={}), HumanMessage(content='私の好きなものはずんだ餅です。覚えておいてね。', additional_kwargs={}, response_metadata={}), AIMessage(content='了解しました！ずんだ餅ですね。', additional_kwargs={'refusal': None}, response_metadata={'token_usage': {'completion_tokens': 11, 'prompt_tokens': 48, 'total_tokens': 59, 'completion_tokens_details': {'accepted_prediction_tokens': 0, 'audio_tokens': 0, 'reasoning_tokens': 0, 'rejected_prediction_tokens': 0}, 'prompt_tokens_details': {'audio_tokens': 0, 'cached_tokens': 0}}, 'model_name': 'gpt-4o-mini-2024-07-18', 'system_fingerprint': 'fp_b376dfbbd5', 'id': 'chatcmpl-BImSTlDj4AcdKHE0HmoMhfOFFk04D', 'finish_reason': 'stop', 'logprobs': None}, id='run-58682591-2866-477c-bb8f-338e4344c5ba-0', usage_metadata={'input_tokens': 48, 'output_tokens': 11, 'total_tokens': 59, 'input_token_details': {'audio': 0, 'cache_read': 0}, 'output_token_details': {'audio': 0, 'reasoning': 0}})]}, 'pending_sends': []}, metadata={'source': 'loop', 'writes': {'llm_response': {'messages': [AIMessage(content='了解しました！ずんだ餅ですね。', additional_kwargs={'refusal': None}, response_metadata={'token_usage': {'completion_tokens': 11, 'prompt_tokens': 48, 'total_tokens': 59, 'completion_tokens_details': {'accepted_prediction_tokens': 0, 'audio_tokens': 0, 'reasoning_tokens': 0, 'rejected_prediction_tokens': 0}, 'prompt_tokens_details': {'audio_tokens': 0, 'cached_tokens': 0}}, 'model_name': 'gpt-4o-mini-2024-07-18', 'system_fingerprint': 'fp_b376dfbbd5', 'id': 'chatcmpl-BImSTlDj4AcdKHE0HmoMhfOFFk04D', 'finish_reason': 'stop', 'logprobs': None}, id='run-58682591-2866-477c-bb8f-338e4344c5ba-0', usage_metadata={'input_tokens': 48, 'output_tokens': 11, 'total_tokens': 59, 'input_token_details': {'audio': 0, 'cache_read': 0}, 'output_token_details': {'audio': 0, 'reasoning': 0}})]}}, 'step': 2, 'parents': {}, 'thread_id': 'example-1'}, parent_config={'configurable': {'thread_id': 'example-1', 'checkpoint_ns': '', 'checkpoint_id': '1f011bbc-e6df-6f00-8001-3001bec1c09b'}}, pending_writes=[])\n",
      "CheckpointTuple(config={'configurable': {'thread_id': 'example-1', 'checkpoint_ns': '', 'checkpoint_id': '1f011bbc-e6df-6f00-8001-3001bec1c09b'}}, checkpoint={'v': 3, 'ts': '2025-04-05T01:17:56.835708+00:00', 'id': '1f011bbc-e6df-6f00-8001-3001bec1c09b', 'channel_versions': {'__start__': '00000000000000000000000000000002.0.05803536958012234', 'query': '00000000000000000000000000000002.0.06744840091760773', 'messages': '00000000000000000000000000000003.0.8610013686209046', 'branch:to:add_message': '00000000000000000000000000000003.0.9203961101897897', 'branch:to:llm_response': '00000000000000000000000000000003.0.46297692010916713'}, 'versions_seen': {'__input__': {}, '__start__': {'__start__': '00000000000000000000000000000001.0.5384767953337886'}, 'add_message': {'branch:to:add_message': '00000000000000000000000000000002.0.6558269153107993'}}, 'channel_values': {'query': '私の好きなものはずんだ餅です。覚えておいてね。', 'messages': [SystemMessage(content='あなたは最小限の応答をする対話エージェントです。', additional_kwargs={}, response_metadata={}), HumanMessage(content='私の好きなものはずんだ餅です。覚えておいてね。', additional_kwargs={}, response_metadata={})], 'branch:to:llm_response': None}, 'pending_sends': []}, metadata={'source': 'loop', 'writes': {'add_message': {'messages': [SystemMessage(content='あなたは最小限の応答をする対話エージェントです。', additional_kwargs={}, response_metadata={}), HumanMessage(content='私の好きなものはずんだ餅です。覚えておいてね。', additional_kwargs={}, response_metadata={})]}}, 'step': 1, 'parents': {}, 'thread_id': 'example-1'}, parent_config={'configurable': {'thread_id': 'example-1', 'checkpoint_ns': '', 'checkpoint_id': '1f011bbc-e6dc-6300-8000-4c07d2cef56b'}}, pending_writes=[('8993a52c-9b2e-6960-e4e8-4aa6b70e9a39', 'messages', [AIMessage(content='了解しました！ずんだ餅ですね。', additional_kwargs={'refusal': None}, response_metadata={'token_usage': {'completion_tokens': 11, 'prompt_tokens': 48, 'total_tokens': 59, 'completion_tokens_details': {'accepted_prediction_tokens': 0, 'audio_tokens': 0, 'reasoning_tokens': 0, 'rejected_prediction_tokens': 0}, 'prompt_tokens_details': {'audio_tokens': 0, 'cached_tokens': 0}}, 'model_name': 'gpt-4o-mini-2024-07-18', 'system_fingerprint': 'fp_b376dfbbd5', 'id': 'chatcmpl-BImSTlDj4AcdKHE0HmoMhfOFFk04D', 'finish_reason': 'stop', 'logprobs': None}, id='run-58682591-2866-477c-bb8f-338e4344c5ba-0', usage_metadata={'input_tokens': 48, 'output_tokens': 11, 'total_tokens': 59, 'input_token_details': {'audio': 0, 'cache_read': 0}, 'output_token_details': {'audio': 0, 'reasoning': 0}})])])\n",
      "CheckpointTuple(config={'configurable': {'thread_id': 'example-1', 'checkpoint_ns': '', 'checkpoint_id': '1f011bbc-e6dc-6300-8000-4c07d2cef56b'}}, checkpoint={'v': 3, 'ts': '2025-04-05T01:17:56.834168+00:00', 'id': '1f011bbc-e6dc-6300-8000-4c07d2cef56b', 'channel_versions': {'__start__': '00000000000000000000000000000002.0.05803536958012234', 'query': '00000000000000000000000000000002.0.06744840091760773', 'messages': '00000000000000000000000000000002.0.8109854128672416', 'branch:to:add_message': '00000000000000000000000000000002.0.6558269153107993'}, 'versions_seen': {'__input__': {}, '__start__': {'__start__': '00000000000000000000000000000001.0.5384767953337886'}}, 'channel_values': {'query': '私の好きなものはずんだ餅です。覚えておいてね。', 'messages': [], 'branch:to:add_message': None}, 'pending_sends': []}, metadata={'source': 'loop', 'writes': None, 'step': 0, 'parents': {}, 'thread_id': 'example-1'}, parent_config={'configurable': {'thread_id': 'example-1', 'checkpoint_ns': '', 'checkpoint_id': '1f011bbc-e6d4-6cea-bfff-db0996e93a01'}}, pending_writes=[('cf5d3344-d2f9-b170-38b9-0ee5a626c76d', 'messages', [SystemMessage(content='あなたは最小限の応答をする対話エージェントです。', additional_kwargs={}, response_metadata={}), HumanMessage(content='私の好きなものはずんだ餅です。覚えておいてね。', additional_kwargs={}, response_metadata={})]), ('cf5d3344-d2f9-b170-38b9-0ee5a626c76d', 'branch:to:llm_response', None)])\n",
      "CheckpointTuple(config={'configurable': {'thread_id': 'example-1', 'checkpoint_ns': '', 'checkpoint_id': '1f011bbc-e6d4-6cea-bfff-db0996e93a01'}}, checkpoint={'v': 3, 'ts': '2025-04-05T01:17:56.831147+00:00', 'id': '1f011bbc-e6d4-6cea-bfff-db0996e93a01', 'channel_versions': {'__start__': '00000000000000000000000000000001.0.5384767953337886'}, 'versions_seen': {'__input__': {}}, 'channel_values': {'__start__': State(query='私の好きなものはずんだ餅です。覚えておいてね。', messages=[])}, 'pending_sends': []}, metadata={'source': 'input', 'writes': {'__start__': State(query='私の好きなものはずんだ餅です。覚えておいてね。', messages=[])}, 'step': -1, 'parents': {}, 'thread_id': 'example-1'}, parent_config=None, pending_writes=[('e8d8c036-f159-a9d4-98a8-8333926f83d3', 'query', '私の好きなものはずんだ餅です。覚えておいてね。'), ('e8d8c036-f159-a9d4-98a8-8333926f83d3', 'messages', []), ('e8d8c036-f159-a9d4-98a8-8333926f83d3', 'branch:to:add_message', None)])\n"
     ]
    }
   ],
   "source": [
    "for checkpoint in checkpointer.list(config):\n",
    "    print(checkpoint)"
   ]
  }
 ],
 "metadata": {
  "kernelspec": {
   "display_name": "learn-rag-ai-agent-0iCzrxPH-py3.11",
   "language": "python",
   "name": "python3"
  },
  "language_info": {
   "codemirror_mode": {
    "name": "ipython",
    "version": 3
   },
   "file_extension": ".py",
   "mimetype": "text/x-python",
   "name": "python",
   "nbconvert_exporter": "python",
   "pygments_lexer": "ipython3",
   "version": "3.11.11"
  }
 },
 "nbformat": 4,
 "nbformat_minor": 2
}
