{
 "cells": [
  {
   "cell_type": "code",
   "execution_count": 13,
   "metadata": {},
   "outputs": [
    {
     "data": {
      "text/plain": [
       "True"
      ]
     },
     "execution_count": 13,
     "metadata": {},
     "output_type": "execute_result"
    }
   ],
   "source": [
    "import os\n",
    "\n",
    "from dotenv import load_dotenv\n",
    "\n",
    "load_dotenv()"
   ]
  },
  {
   "cell_type": "code",
   "execution_count": 16,
   "metadata": {},
   "outputs": [
    {
     "name": "stdout",
     "output_type": "stream",
     "text": [
      "409\n"
     ]
    }
   ],
   "source": [
    "# from langchain_community.document_loaders import GitLoader\n",
    "from langchain_community.document_loaders import DirectoryLoader, TextLoader\n",
    "\n",
    "def file_filter(file_path: str) -> bool:\n",
    "    return file_path.endswith(\".mdx\")\n",
    "\n",
    "# loader = GitLoader(\n",
    "#     clone_url=\"https://github.com/langchain-ai/langchain\",\n",
    "#     repo_path=\"./langchain\",\n",
    "#     branch=\"master\",\n",
    "#     file_filter=file_filter,\n",
    "# )\n",
    "loader = DirectoryLoader(\n",
    "    \"./langchain\",\n",
    "    glob=\"**/*.mdx\",\n",
    "    loader_cls=TextLoader,\n",
    ")\n",
    "\n",
    "documents = loader.load()\n",
    "print(len(documents))"
   ]
  },
  {
   "cell_type": "code",
   "execution_count": 17,
   "metadata": {},
   "outputs": [],
   "source": [
    "for document in documents:\n",
    "    document.metadata[\"filename\"] = document.metadata[\"source\"]"
   ]
  },
  {
   "cell_type": "code",
   "execution_count": null,
   "metadata": {},
   "outputs": [],
   "source": [
    "import nest_asyncio\n",
    "from ragas.llms import LangchainLLMWrapper\n",
    "from ragas.embeddings import LangchainEmbeddingsWrapper\n",
    "from ragas.testset import TestsetGenerator\n",
    "from langchain_openai import ChatOpenAI, OpenAIEmbeddings\n",
    "from typing import List, Optional\n",
    "from langchain_core.documents import Document\n",
    "import logging\n",
    "\n",
    "# 非同期処理用のネストを有効化\n",
    "nest_asyncio.apply()\n",
    "\n",
    "# エラーを記録するためのロガーを設定\n",
    "logging.basicConfig(level=logging.INFO)\n",
    "logger = logging.getLogger(__name__)\n",
    "\n",
    "# HeadlineSplitterのエラーを処理するためのカスタムTestsetGenerator\n",
    "class CustomTestsetGenerator(TestsetGenerator):\n",
    "    def __init__(self, llm, embedding_model, **kwargs):\n",
    "        super().__init__(llm=llm, embedding_model=embedding_model, **kwargs)\n",
    "\n",
    "    def geneate_with_langchain_docs(self, documents: List[Document], testset_size: int = 4, context_size: Optional[int] = None):\n",
    "        \"\"\"\n",
    "        LangChainドキュメントからテストセットを生成し、HeadlineSplitterエラーをスキップします\n",
    "\n",
    "        Args:\n",
    "            documents: 入力ドキュメントのリスト\n",
    "            testset_size: 生成するテストケースの数\n",
    "            context_size: コンテキストサイズ（省略可能）\n",
    "\n",
    "        Returns:\n",
    "            生成されたテストセット\n",
    "        \"\"\"\n",
    "        # フィルター済みのドキュメントを格納するリスト\n",
    "        filtered_documents = []\n",
    "\n",
    "        # ドキュメントを処理し、エラーが発生したものをスキップ\n",
    "        for doc in documents:\n",
    "            try:\n",
    "                # ドキュメントに最小限の検証を行う\n",
    "                if hasattr(doc, 'page_content') and doc.page_content.strip():\n",
    "                    filtered_documents.append(doc)\n",
    "                else:\n",
    "                    logger.warning(f\"スキップしました: 空のコンテンツまたは無効なドキュメント形式\")\n",
    "            except Exception as e:\n",
    "                logger.warning(f\"ドキュメント処理中にエラーが発生したためスキップします: {str(e)}\")\n",
    "\n",
    "        logger.info(f\"処理前のドキュメント数: {len(documents)}, 処理後: {len(filtered_documents)}\")\n",
    "\n",
    "        # 親クラスのメソッドを呼び出す前に名前を正しく修正\n",
    "        # (タイプミスを修正: geneate_with_langchain_docs -> generate_with_langchain_docs)\n",
    "        return super().generate_with_langchain_docs(\n",
    "            filtered_documents,\n",
    "            testset_size=testset_size,\n",
    "            context_size=context_size\n",
    "        )\n",
    "\n",
    "# LLMおよび埋め込みモデルのインスタンス化\n",
    "generator_llm = LangchainLLMWrapper(ChatOpenAI(model=\"gpt-4o-mini\"))\n",
    "generator_embeddings = LangchainEmbeddingsWrapper(OpenAIEmbeddings())\n",
    "\n",
    "# カスタムTestsetGeneratorのインスタンス化\n",
    "generator = CustomTestsetGenerator(llm=generator_llm, embedding_model=generator_embeddings)\n",
    "\n",
    "# ドキュメントからテストセットを生成\n",
    "# タイプミスを修正: geneate_with_langchain_docs -> generate_with_langchain_docs\n",
    "try:\n",
    "    testset = generator.generate_with_langchain_docs(\n",
    "        documents,\n",
    "        testset_size=4,\n",
    "    )\n",
    "    print(f\"テストセット生成完了: {len(testset)} テストケースが生成されました\")\n",
    "except Exception as e:\n",
    "    logging.error(f\"テストセット生成中にエラーが発生しました: {str(e)}\")\n",
    "    # エラーの詳細情報を出力\n",
    "    import traceback\n",
    "    traceback.print_exc()"
   ]
  },
  {
   "cell_type": "code",
   "execution_count": 22,
   "metadata": {},
   "outputs": [
    {
     "ename": "NameError",
     "evalue": "name 'testset' is not defined",
     "output_type": "error",
     "traceback": [
      "\u001b[31m---------------------------------------------------------------------------\u001b[39m",
      "\u001b[31mNameError\u001b[39m                                 Traceback (most recent call last)",
      "\u001b[36mCell\u001b[39m\u001b[36m \u001b[39m\u001b[32mIn[22]\u001b[39m\u001b[32m, line 1\u001b[39m\n\u001b[32m----> \u001b[39m\u001b[32m1\u001b[39m \u001b[38;5;28mprint\u001b[39m(\u001b[43mtestset\u001b[49m)\n",
      "\u001b[31mNameError\u001b[39m: name 'testset' is not defined"
     ]
    }
   ],
   "source": [
    "print(testset)"
   ]
  },
  {
   "cell_type": "code",
   "execution_count": null,
   "metadata": {},
   "outputs": [],
   "source": [
    "testset.to_pandas()"
   ]
  },
  {
   "cell_type": "code",
   "execution_count": null,
   "metadata": {},
   "outputs": [],
   "source": [
    "from langsmith import Client\n",
    "\n",
    "dataset_name = \"agent-book\"\n",
    "client = Client()\n",
    "if client.has_dataset(dataset_name=dataset_name):\n",
    "    client.delete_dataset(dataset_name=dataset_name)\n",
    "\n",
    "dataset = client.create_dataset(dataset_name=dataset_name)"
   ]
  },
  {
   "cell_type": "code",
   "execution_count": null,
   "metadata": {},
   "outputs": [],
   "source": [
    "inputs = []\n",
    "outputs = []\n",
    "metadatas = []\n",
    "\n",
    "for testset_record in testset.test_data:\n",
    "   inputs.append(\n",
    "       {\n",
    "           \"question\": testset_record.question,\n",
    "       }\n",
    "   )\n",
    "   outputs.append(\n",
    "       {\n",
    "           \"contexts\": testset_record.contexts,\n",
    "           \"ground_truth\": testset_record.ground_truth,\n",
    "       }\n",
    "   )\n",
    "   metadatas.append(\n",
    "       {\n",
    "           \"source\": testset_record.metadata[0][\"source\"],\n",
    "           \"evolution_type\": testset_record.evolution_type,\n",
    "       }\n",
    "   )"
   ]
  },
  {
   "cell_type": "code",
   "execution_count": null,
   "metadata": {},
   "outputs": [],
   "source": [
    "client.create_examples(\n",
    "   inputs=inputs,\n",
    "   outputs=outputs,\n",
    "   metadata=metadatas,\n",
    "   dataset_id=dataset.id,\n",
    ")"
   ]
  },
  {
   "cell_type": "code",
   "execution_count": null,
   "metadata": {},
   "outputs": [],
   "source": [
    "from typing import Any\n",
    "from langchain_core.embeddings import Embeddings\n",
    "from langchain_core.language_models import BaseChatModel\n",
    "from langsmith.schemas import Example, Run\n",
    "from ragas.embeddings import LangchainEmbeddingsWrapper\n",
    "from ragas.llms import LangchainLLMWrapper\n",
    "from ragas.metrics.base import Metric, MetricWithEmbeddings, MetricWithLLM\n",
    "\n",
    "class RagasMetricEvaluator:\n",
    "    def __init__(self, metric: Metric, llm: BaseChatModel, embeddings: Embeddings):\n",
    "        self.metric = metric\n",
    "        # LLMとEmbeddingsをMetricに設定\n",
    "        if isinstance(self.metric, MetricWithLLM):\n",
    "            self.metric.llm = LangchainLLMWrapper(llm)\n",
    "        if isinstance(self.metric, MetricWithEmbeddings):\n",
    "            self.metric.embeddings = LangchainEmbeddingsWrapper(embeddings)\n",
    "\n",
    "    def evaluate(self, run: Run, example: Example) -> dict[str, Any]:\n",
    "        context_strs = [doc.page_content for doc in run.outputs[\"contexts\"]]\n",
    "        # Ragasの評価メトリクスのscoreメソッドでスコアを算出\n",
    "        score = self.metric.score(\n",
    "            {\n",
    "                \"question\": example.inputs[\"question\"],\n",
    "                \"answer\": run.outputs[\"answer\"],\n",
    "                \"contexts\": context_strs,\n",
    "                \"ground_truth\": example.outputs[\"ground_truth\"],\n",
    "            },\n",
    "        )\n",
    "        return {\"key\": self.metric.name, \"score\": score}"
   ]
  },
  {
   "cell_type": "code",
   "execution_count": null,
   "metadata": {},
   "outputs": [],
   "source": [
    "from langchain_openai import ChatOpenAI, OpenAIEmbeddings\n",
    "from ragas.metrics import answer_relevancy, context_precision\n",
    "\n",
    "metrics = [context_precision, answer_relevancy]\n",
    "llm = ChatOpenAI(model=\"gpt-4o-mini\", temperature=0)\n",
    "embeddings = OpenAIEmbeddings(model=\"text-embedding-3-small\")\n",
    "evaluators = [\n",
    "   RagasMetricEvaluator(metric, llm, embeddings).evaluate\n",
    "   for metric in metrics\n",
    "]"
   ]
  },
  {
   "cell_type": "code",
   "execution_count": null,
   "metadata": {},
   "outputs": [],
   "source": [
    "from langchain_chroma import Chroma\n",
    "from langchain_openai import OpenAIEmbeddings\n",
    "embeddings = OpenAIEmbeddings(model=\"text-embedding-3-small\")\n",
    "db = Chroma.from_documents(documents, embeddings)"
   ]
  },
  {
   "cell_type": "code",
   "execution_count": null,
   "metadata": {},
   "outputs": [],
   "source": [
    "from langchain_core.output_parsers import StrOutputParser\n",
    "from langchain_core.prompts import ChatPromptTemplate\n",
    "from langchain_core.runnables import RunnableParallel, RunnablePassthrough\n",
    "from langchain_openai import ChatOpenAI\n",
    "\n",
    "prompt = ChatPromptTemplate.from_template('''\\\n",
    "以下の文脈だけを踏まえて質問に回答してください。\n",
    "文脈: \"\"\"\n",
    "{context}\n",
    "\"\"\"\n",
    "質問: {question}\n",
    "''')\n",
    "model = ChatOpenAI(model=\"gpt-4o-mini\", temperature=0)\n",
    "retriever = db.as_retriever()\n",
    "chain = RunnableParallel(\n",
    "    {\n",
    "        \"question\": RunnablePassthrough(),\n",
    "        \"context\": retriever,\n",
    "    }\n",
    ").assign(answer=prompt | model | StrOutputParser())\n",
    "\n",
    "def predict(inputs: dict[str, Any]) -> dict[str, Any]:\n",
    "    question = inputs[\"question\"]\n",
    "    output = chain.invoke(question)\n",
    "    return {\n",
    "        \"contexts\": output[\"context\"],\n",
    "        \"answer\": output[\"answer\"],\n",
    "    }"
   ]
  },
  {
   "cell_type": "code",
   "execution_count": null,
   "metadata": {},
   "outputs": [],
   "source": [
    "from langsmith.evaluation import evaluate\n",
    "evaluate(\n",
    "    predict,\n",
    "    data=\"agent-book\",\n",
    "    evaluators=evaluators,\n",
    ")"
   ]
  }
 ],
 "metadata": {
  "kernelspec": {
   "display_name": "learn-rag-ai-agent-0iCzrxPH-py3.11",
   "language": "python",
   "name": "python3"
  },
  "language_info": {
   "codemirror_mode": {
    "name": "ipython",
    "version": 3
   },
   "file_extension": ".py",
   "mimetype": "text/x-python",
   "name": "python",
   "nbconvert_exporter": "python",
   "pygments_lexer": "ipython3",
   "version": "3.11.11"
  }
 },
 "nbformat": 4,
 "nbformat_minor": 2
}
